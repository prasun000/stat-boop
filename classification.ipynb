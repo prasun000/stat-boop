{
  "cells": [
    {
      "cell_type": "code",
      "execution_count": 110,
      "metadata": {
        "colab": {
          "base_uri": "https://localhost:8080/"
        },
        "id": "DpYZzQyOzZX5",
        "outputId": "9bc85d99-8e6b-4b6b-fbac-ee32e4b60018"
      },
      "outputs": [
        {
          "output_type": "stream",
          "name": "stdout",
          "text": [
            "Looking in indexes: https://pypi.org/simple, https://us-python.pkg.dev/colab-wheels/public/simple/\n",
            "Requirement already satisfied: kaggle in /usr/local/lib/python3.8/dist-packages (1.5.12)\n",
            "Requirement already satisfied: tqdm in /usr/local/lib/python3.8/dist-packages (from kaggle) (4.64.1)\n",
            "Requirement already satisfied: six>=1.10 in /usr/local/lib/python3.8/dist-packages (from kaggle) (1.15.0)\n",
            "Requirement already satisfied: urllib3 in /usr/local/lib/python3.8/dist-packages (from kaggle) (1.24.3)\n",
            "Requirement already satisfied: python-dateutil in /usr/local/lib/python3.8/dist-packages (from kaggle) (2.8.2)\n",
            "Requirement already satisfied: python-slugify in /usr/local/lib/python3.8/dist-packages (from kaggle) (7.0.0)\n",
            "Requirement already satisfied: requests in /usr/local/lib/python3.8/dist-packages (from kaggle) (2.23.0)\n",
            "Requirement already satisfied: certifi in /usr/local/lib/python3.8/dist-packages (from kaggle) (2022.12.7)\n",
            "Requirement already satisfied: text-unidecode>=1.3 in /usr/local/lib/python3.8/dist-packages (from python-slugify->kaggle) (1.3)\n",
            "Requirement already satisfied: idna<3,>=2.5 in /usr/local/lib/python3.8/dist-packages (from requests->kaggle) (2.10)\n",
            "Requirement already satisfied: chardet<4,>=3.0.2 in /usr/local/lib/python3.8/dist-packages (from requests->kaggle) (3.0.4)\n",
            "mkdir: cannot create directory ‘/root/.kaggle’: File exists\n",
            "creditcardfraud.zip: Skipping, found more recently modified local copy (use --force to force download)\n",
            "Archive:  creditcardfraud.zip\n",
            "replace creditcard.csv? [y]es, [n]o, [A]ll, [N]one, [r]ename: y\n",
            "  inflating: creditcard.csv          \n"
          ]
        }
      ],
      "source": [
        "! pip install kaggle\n",
        "! mkdir ~/.kaggle\n",
        "!cp /content/drive/MyDrive/kaggle.json ~/.kaggle/kaggle.json\n",
        "! kaggle datasets download mlg-ulb/creditcardfraud\n",
        "! unzip creditcardfraud.zip"
      ]
    },
    {
      "cell_type": "code",
      "execution_count": 17,
      "metadata": {
        "id": "eF7J885yH_Ch"
      },
      "outputs": [],
      "source": [
        "import numpy as np\n",
        "import pandas as pd\n",
        "import matplotlib.pyplot as plt\n",
        "#import seaborn as sns\n",
        "\n",
        "# Classifier Libraries\n",
        "from sklearn.linear_model import LogisticRegression\n",
        "from sklearn.svm import LinearSVC\n",
        "from sklearn.neighbors import KNeighborsClassifier\n",
        "from sklearn.tree import DecisionTreeClassifier\n",
        "from sklearn.ensemble import RandomForestClassifier\n",
        "\n",
        "# Other Libraries\n",
        "from sklearn.model_selection import train_test_split\n",
        "from imblearn.pipeline import Pipeline\n",
        "###############################################################################################\n",
        "from imblearn.over_sampling import SMOTE, RandomOverSampler, ADASYN, BorderlineSMOTE, SVMSMOTE\n",
        "from imblearn.under_sampling import RandomUnderSampler\n",
        "from imblearn.combine import SMOTEENN, SMOTETomek\n",
        "###############################################################################################\n",
        "from imblearn.metrics import classification_report_imbalanced\n",
        "from sklearn.metrics import precision_score, recall_score, f1_score, roc_auc_score, accuracy_score, classification_report\n",
        "from collections import Counter\n",
        "from sklearn.model_selection import KFold, StratifiedKFold\n",
        "from sklearn.neighbors import NearestNeighbors\n",
        "\n",
        "from pprint import pprint\n",
        "from math import sqrt\n",
        "from sklearn.metrics import average_precision_score\n",
        "\n",
        "from sklearn.model_selection import train_test_split, GridSearchCV, StratifiedKFold\n",
        "from sklearn.preprocessing import StandardScaler\n",
        "from sklearn import metrics"
      ]
    },
    {
      "cell_type": "markdown",
      "metadata": {
        "id": "b89XrGu1niq4"
      },
      "source": [
        "## Credit Card Dataset"
      ]
    },
    {
      "cell_type": "code",
      "execution_count": 3,
      "metadata": {
        "id": "Sz9Mv7AoK3-F",
        "colab": {
          "base_uri": "https://localhost:8080/",
          "height": 394
        },
        "outputId": "14c960d3-e1fb-4532-acac-67f207011ca8"
      },
      "outputs": [
        {
          "output_type": "execute_result",
          "data": {
            "text/plain": [
              "                Time            V1            V2            V3            V4  \\\n",
              "count  284807.000000  2.848070e+05  2.848070e+05  2.848070e+05  2.848070e+05   \n",
              "mean    94813.859575  1.168375e-15  3.416908e-16 -1.379537e-15  2.074095e-15   \n",
              "std     47488.145955  1.958696e+00  1.651309e+00  1.516255e+00  1.415869e+00   \n",
              "min         0.000000 -5.640751e+01 -7.271573e+01 -4.832559e+01 -5.683171e+00   \n",
              "25%     54201.500000 -9.203734e-01 -5.985499e-01 -8.903648e-01 -8.486401e-01   \n",
              "50%     84692.000000  1.810880e-02  6.548556e-02  1.798463e-01 -1.984653e-02   \n",
              "75%    139320.500000  1.315642e+00  8.037239e-01  1.027196e+00  7.433413e-01   \n",
              "max    172792.000000  2.454930e+00  2.205773e+01  9.382558e+00  1.687534e+01   \n",
              "\n",
              "                 V5            V6            V7            V8            V9  \\\n",
              "count  2.848070e+05  2.848070e+05  2.848070e+05  2.848070e+05  2.848070e+05   \n",
              "mean   9.604066e-16  1.487313e-15 -5.556467e-16  1.213481e-16 -2.406331e-15   \n",
              "std    1.380247e+00  1.332271e+00  1.237094e+00  1.194353e+00  1.098632e+00   \n",
              "min   -1.137433e+02 -2.616051e+01 -4.355724e+01 -7.321672e+01 -1.343407e+01   \n",
              "25%   -6.915971e-01 -7.682956e-01 -5.540759e-01 -2.086297e-01 -6.430976e-01   \n",
              "50%   -5.433583e-02 -2.741871e-01  4.010308e-02  2.235804e-02 -5.142873e-02   \n",
              "75%    6.119264e-01  3.985649e-01  5.704361e-01  3.273459e-01  5.971390e-01   \n",
              "max    3.480167e+01  7.330163e+01  1.205895e+02  2.000721e+01  1.559499e+01   \n",
              "\n",
              "       ...           V21           V22           V23           V24  \\\n",
              "count  ...  2.848070e+05  2.848070e+05  2.848070e+05  2.848070e+05   \n",
              "mean   ...  1.654067e-16 -3.568593e-16  2.578648e-16  4.473266e-15   \n",
              "std    ...  7.345240e-01  7.257016e-01  6.244603e-01  6.056471e-01   \n",
              "min    ... -3.483038e+01 -1.093314e+01 -4.480774e+01 -2.836627e+00   \n",
              "25%    ... -2.283949e-01 -5.423504e-01 -1.618463e-01 -3.545861e-01   \n",
              "50%    ... -2.945017e-02  6.781943e-03 -1.119293e-02  4.097606e-02   \n",
              "75%    ...  1.863772e-01  5.285536e-01  1.476421e-01  4.395266e-01   \n",
              "max    ...  2.720284e+01  1.050309e+01  2.252841e+01  4.584549e+00   \n",
              "\n",
              "                V25           V26           V27           V28         Amount  \\\n",
              "count  2.848070e+05  2.848070e+05  2.848070e+05  2.848070e+05  284807.000000   \n",
              "mean   5.340915e-16  1.683437e-15 -3.660091e-16 -1.227390e-16      88.349619   \n",
              "std    5.212781e-01  4.822270e-01  4.036325e-01  3.300833e-01     250.120109   \n",
              "min   -1.029540e+01 -2.604551e+00 -2.256568e+01 -1.543008e+01       0.000000   \n",
              "25%   -3.171451e-01 -3.269839e-01 -7.083953e-02 -5.295979e-02       5.600000   \n",
              "50%    1.659350e-02 -5.213911e-02  1.342146e-03  1.124383e-02      22.000000   \n",
              "75%    3.507156e-01  2.409522e-01  9.104512e-02  7.827995e-02      77.165000   \n",
              "max    7.519589e+00  3.517346e+00  3.161220e+01  3.384781e+01   25691.160000   \n",
              "\n",
              "               Class  \n",
              "count  284807.000000  \n",
              "mean        0.001727  \n",
              "std         0.041527  \n",
              "min         0.000000  \n",
              "25%         0.000000  \n",
              "50%         0.000000  \n",
              "75%         0.000000  \n",
              "max         1.000000  \n",
              "\n",
              "[8 rows x 31 columns]"
            ],
            "text/html": [
              "\n",
              "  <div id=\"df-0167c702-4515-48ba-aa54-4db9371a2fae\">\n",
              "    <div class=\"colab-df-container\">\n",
              "      <div>\n",
              "<style scoped>\n",
              "    .dataframe tbody tr th:only-of-type {\n",
              "        vertical-align: middle;\n",
              "    }\n",
              "\n",
              "    .dataframe tbody tr th {\n",
              "        vertical-align: top;\n",
              "    }\n",
              "\n",
              "    .dataframe thead th {\n",
              "        text-align: right;\n",
              "    }\n",
              "</style>\n",
              "<table border=\"1\" class=\"dataframe\">\n",
              "  <thead>\n",
              "    <tr style=\"text-align: right;\">\n",
              "      <th></th>\n",
              "      <th>Time</th>\n",
              "      <th>V1</th>\n",
              "      <th>V2</th>\n",
              "      <th>V3</th>\n",
              "      <th>V4</th>\n",
              "      <th>V5</th>\n",
              "      <th>V6</th>\n",
              "      <th>V7</th>\n",
              "      <th>V8</th>\n",
              "      <th>V9</th>\n",
              "      <th>...</th>\n",
              "      <th>V21</th>\n",
              "      <th>V22</th>\n",
              "      <th>V23</th>\n",
              "      <th>V24</th>\n",
              "      <th>V25</th>\n",
              "      <th>V26</th>\n",
              "      <th>V27</th>\n",
              "      <th>V28</th>\n",
              "      <th>Amount</th>\n",
              "      <th>Class</th>\n",
              "    </tr>\n",
              "  </thead>\n",
              "  <tbody>\n",
              "    <tr>\n",
              "      <th>count</th>\n",
              "      <td>284807.000000</td>\n",
              "      <td>2.848070e+05</td>\n",
              "      <td>2.848070e+05</td>\n",
              "      <td>2.848070e+05</td>\n",
              "      <td>2.848070e+05</td>\n",
              "      <td>2.848070e+05</td>\n",
              "      <td>2.848070e+05</td>\n",
              "      <td>2.848070e+05</td>\n",
              "      <td>2.848070e+05</td>\n",
              "      <td>2.848070e+05</td>\n",
              "      <td>...</td>\n",
              "      <td>2.848070e+05</td>\n",
              "      <td>2.848070e+05</td>\n",
              "      <td>2.848070e+05</td>\n",
              "      <td>2.848070e+05</td>\n",
              "      <td>2.848070e+05</td>\n",
              "      <td>2.848070e+05</td>\n",
              "      <td>2.848070e+05</td>\n",
              "      <td>2.848070e+05</td>\n",
              "      <td>284807.000000</td>\n",
              "      <td>284807.000000</td>\n",
              "    </tr>\n",
              "    <tr>\n",
              "      <th>mean</th>\n",
              "      <td>94813.859575</td>\n",
              "      <td>1.168375e-15</td>\n",
              "      <td>3.416908e-16</td>\n",
              "      <td>-1.379537e-15</td>\n",
              "      <td>2.074095e-15</td>\n",
              "      <td>9.604066e-16</td>\n",
              "      <td>1.487313e-15</td>\n",
              "      <td>-5.556467e-16</td>\n",
              "      <td>1.213481e-16</td>\n",
              "      <td>-2.406331e-15</td>\n",
              "      <td>...</td>\n",
              "      <td>1.654067e-16</td>\n",
              "      <td>-3.568593e-16</td>\n",
              "      <td>2.578648e-16</td>\n",
              "      <td>4.473266e-15</td>\n",
              "      <td>5.340915e-16</td>\n",
              "      <td>1.683437e-15</td>\n",
              "      <td>-3.660091e-16</td>\n",
              "      <td>-1.227390e-16</td>\n",
              "      <td>88.349619</td>\n",
              "      <td>0.001727</td>\n",
              "    </tr>\n",
              "    <tr>\n",
              "      <th>std</th>\n",
              "      <td>47488.145955</td>\n",
              "      <td>1.958696e+00</td>\n",
              "      <td>1.651309e+00</td>\n",
              "      <td>1.516255e+00</td>\n",
              "      <td>1.415869e+00</td>\n",
              "      <td>1.380247e+00</td>\n",
              "      <td>1.332271e+00</td>\n",
              "      <td>1.237094e+00</td>\n",
              "      <td>1.194353e+00</td>\n",
              "      <td>1.098632e+00</td>\n",
              "      <td>...</td>\n",
              "      <td>7.345240e-01</td>\n",
              "      <td>7.257016e-01</td>\n",
              "      <td>6.244603e-01</td>\n",
              "      <td>6.056471e-01</td>\n",
              "      <td>5.212781e-01</td>\n",
              "      <td>4.822270e-01</td>\n",
              "      <td>4.036325e-01</td>\n",
              "      <td>3.300833e-01</td>\n",
              "      <td>250.120109</td>\n",
              "      <td>0.041527</td>\n",
              "    </tr>\n",
              "    <tr>\n",
              "      <th>min</th>\n",
              "      <td>0.000000</td>\n",
              "      <td>-5.640751e+01</td>\n",
              "      <td>-7.271573e+01</td>\n",
              "      <td>-4.832559e+01</td>\n",
              "      <td>-5.683171e+00</td>\n",
              "      <td>-1.137433e+02</td>\n",
              "      <td>-2.616051e+01</td>\n",
              "      <td>-4.355724e+01</td>\n",
              "      <td>-7.321672e+01</td>\n",
              "      <td>-1.343407e+01</td>\n",
              "      <td>...</td>\n",
              "      <td>-3.483038e+01</td>\n",
              "      <td>-1.093314e+01</td>\n",
              "      <td>-4.480774e+01</td>\n",
              "      <td>-2.836627e+00</td>\n",
              "      <td>-1.029540e+01</td>\n",
              "      <td>-2.604551e+00</td>\n",
              "      <td>-2.256568e+01</td>\n",
              "      <td>-1.543008e+01</td>\n",
              "      <td>0.000000</td>\n",
              "      <td>0.000000</td>\n",
              "    </tr>\n",
              "    <tr>\n",
              "      <th>25%</th>\n",
              "      <td>54201.500000</td>\n",
              "      <td>-9.203734e-01</td>\n",
              "      <td>-5.985499e-01</td>\n",
              "      <td>-8.903648e-01</td>\n",
              "      <td>-8.486401e-01</td>\n",
              "      <td>-6.915971e-01</td>\n",
              "      <td>-7.682956e-01</td>\n",
              "      <td>-5.540759e-01</td>\n",
              "      <td>-2.086297e-01</td>\n",
              "      <td>-6.430976e-01</td>\n",
              "      <td>...</td>\n",
              "      <td>-2.283949e-01</td>\n",
              "      <td>-5.423504e-01</td>\n",
              "      <td>-1.618463e-01</td>\n",
              "      <td>-3.545861e-01</td>\n",
              "      <td>-3.171451e-01</td>\n",
              "      <td>-3.269839e-01</td>\n",
              "      <td>-7.083953e-02</td>\n",
              "      <td>-5.295979e-02</td>\n",
              "      <td>5.600000</td>\n",
              "      <td>0.000000</td>\n",
              "    </tr>\n",
              "    <tr>\n",
              "      <th>50%</th>\n",
              "      <td>84692.000000</td>\n",
              "      <td>1.810880e-02</td>\n",
              "      <td>6.548556e-02</td>\n",
              "      <td>1.798463e-01</td>\n",
              "      <td>-1.984653e-02</td>\n",
              "      <td>-5.433583e-02</td>\n",
              "      <td>-2.741871e-01</td>\n",
              "      <td>4.010308e-02</td>\n",
              "      <td>2.235804e-02</td>\n",
              "      <td>-5.142873e-02</td>\n",
              "      <td>...</td>\n",
              "      <td>-2.945017e-02</td>\n",
              "      <td>6.781943e-03</td>\n",
              "      <td>-1.119293e-02</td>\n",
              "      <td>4.097606e-02</td>\n",
              "      <td>1.659350e-02</td>\n",
              "      <td>-5.213911e-02</td>\n",
              "      <td>1.342146e-03</td>\n",
              "      <td>1.124383e-02</td>\n",
              "      <td>22.000000</td>\n",
              "      <td>0.000000</td>\n",
              "    </tr>\n",
              "    <tr>\n",
              "      <th>75%</th>\n",
              "      <td>139320.500000</td>\n",
              "      <td>1.315642e+00</td>\n",
              "      <td>8.037239e-01</td>\n",
              "      <td>1.027196e+00</td>\n",
              "      <td>7.433413e-01</td>\n",
              "      <td>6.119264e-01</td>\n",
              "      <td>3.985649e-01</td>\n",
              "      <td>5.704361e-01</td>\n",
              "      <td>3.273459e-01</td>\n",
              "      <td>5.971390e-01</td>\n",
              "      <td>...</td>\n",
              "      <td>1.863772e-01</td>\n",
              "      <td>5.285536e-01</td>\n",
              "      <td>1.476421e-01</td>\n",
              "      <td>4.395266e-01</td>\n",
              "      <td>3.507156e-01</td>\n",
              "      <td>2.409522e-01</td>\n",
              "      <td>9.104512e-02</td>\n",
              "      <td>7.827995e-02</td>\n",
              "      <td>77.165000</td>\n",
              "      <td>0.000000</td>\n",
              "    </tr>\n",
              "    <tr>\n",
              "      <th>max</th>\n",
              "      <td>172792.000000</td>\n",
              "      <td>2.454930e+00</td>\n",
              "      <td>2.205773e+01</td>\n",
              "      <td>9.382558e+00</td>\n",
              "      <td>1.687534e+01</td>\n",
              "      <td>3.480167e+01</td>\n",
              "      <td>7.330163e+01</td>\n",
              "      <td>1.205895e+02</td>\n",
              "      <td>2.000721e+01</td>\n",
              "      <td>1.559499e+01</td>\n",
              "      <td>...</td>\n",
              "      <td>2.720284e+01</td>\n",
              "      <td>1.050309e+01</td>\n",
              "      <td>2.252841e+01</td>\n",
              "      <td>4.584549e+00</td>\n",
              "      <td>7.519589e+00</td>\n",
              "      <td>3.517346e+00</td>\n",
              "      <td>3.161220e+01</td>\n",
              "      <td>3.384781e+01</td>\n",
              "      <td>25691.160000</td>\n",
              "      <td>1.000000</td>\n",
              "    </tr>\n",
              "  </tbody>\n",
              "</table>\n",
              "<p>8 rows × 31 columns</p>\n",
              "</div>\n",
              "      <button class=\"colab-df-convert\" onclick=\"convertToInteractive('df-0167c702-4515-48ba-aa54-4db9371a2fae')\"\n",
              "              title=\"Convert this dataframe to an interactive table.\"\n",
              "              style=\"display:none;\">\n",
              "        \n",
              "  <svg xmlns=\"http://www.w3.org/2000/svg\" height=\"24px\"viewBox=\"0 0 24 24\"\n",
              "       width=\"24px\">\n",
              "    <path d=\"M0 0h24v24H0V0z\" fill=\"none\"/>\n",
              "    <path d=\"M18.56 5.44l.94 2.06.94-2.06 2.06-.94-2.06-.94-.94-2.06-.94 2.06-2.06.94zm-11 1L8.5 8.5l.94-2.06 2.06-.94-2.06-.94L8.5 2.5l-.94 2.06-2.06.94zm10 10l.94 2.06.94-2.06 2.06-.94-2.06-.94-.94-2.06-.94 2.06-2.06.94z\"/><path d=\"M17.41 7.96l-1.37-1.37c-.4-.4-.92-.59-1.43-.59-.52 0-1.04.2-1.43.59L10.3 9.45l-7.72 7.72c-.78.78-.78 2.05 0 2.83L4 21.41c.39.39.9.59 1.41.59.51 0 1.02-.2 1.41-.59l7.78-7.78 2.81-2.81c.8-.78.8-2.07 0-2.86zM5.41 20L4 18.59l7.72-7.72 1.47 1.35L5.41 20z\"/>\n",
              "  </svg>\n",
              "      </button>\n",
              "      \n",
              "  <style>\n",
              "    .colab-df-container {\n",
              "      display:flex;\n",
              "      flex-wrap:wrap;\n",
              "      gap: 12px;\n",
              "    }\n",
              "\n",
              "    .colab-df-convert {\n",
              "      background-color: #E8F0FE;\n",
              "      border: none;\n",
              "      border-radius: 50%;\n",
              "      cursor: pointer;\n",
              "      display: none;\n",
              "      fill: #1967D2;\n",
              "      height: 32px;\n",
              "      padding: 0 0 0 0;\n",
              "      width: 32px;\n",
              "    }\n",
              "\n",
              "    .colab-df-convert:hover {\n",
              "      background-color: #E2EBFA;\n",
              "      box-shadow: 0px 1px 2px rgba(60, 64, 67, 0.3), 0px 1px 3px 1px rgba(60, 64, 67, 0.15);\n",
              "      fill: #174EA6;\n",
              "    }\n",
              "\n",
              "    [theme=dark] .colab-df-convert {\n",
              "      background-color: #3B4455;\n",
              "      fill: #D2E3FC;\n",
              "    }\n",
              "\n",
              "    [theme=dark] .colab-df-convert:hover {\n",
              "      background-color: #434B5C;\n",
              "      box-shadow: 0px 1px 3px 1px rgba(0, 0, 0, 0.15);\n",
              "      filter: drop-shadow(0px 1px 2px rgba(0, 0, 0, 0.3));\n",
              "      fill: #FFFFFF;\n",
              "    }\n",
              "  </style>\n",
              "\n",
              "      <script>\n",
              "        const buttonEl =\n",
              "          document.querySelector('#df-0167c702-4515-48ba-aa54-4db9371a2fae button.colab-df-convert');\n",
              "        buttonEl.style.display =\n",
              "          google.colab.kernel.accessAllowed ? 'block' : 'none';\n",
              "\n",
              "        async function convertToInteractive(key) {\n",
              "          const element = document.querySelector('#df-0167c702-4515-48ba-aa54-4db9371a2fae');\n",
              "          const dataTable =\n",
              "            await google.colab.kernel.invokeFunction('convertToInteractive',\n",
              "                                                     [key], {});\n",
              "          if (!dataTable) return;\n",
              "\n",
              "          const docLinkHtml = 'Like what you see? Visit the ' +\n",
              "            '<a target=\"_blank\" href=https://colab.research.google.com/notebooks/data_table.ipynb>data table notebook</a>'\n",
              "            + ' to learn more about interactive tables.';\n",
              "          element.innerHTML = '';\n",
              "          dataTable['output_type'] = 'display_data';\n",
              "          await google.colab.output.renderOutput(dataTable, element);\n",
              "          const docLink = document.createElement('div');\n",
              "          docLink.innerHTML = docLinkHtml;\n",
              "          element.appendChild(docLink);\n",
              "        }\n",
              "      </script>\n",
              "    </div>\n",
              "  </div>\n",
              "  "
            ]
          },
          "metadata": {},
          "execution_count": 3
        }
      ],
      "source": [
        "df = pd.read_csv('creditcard.csv')\n",
        "df.describe()"
      ]
    },
    {
      "cell_type": "code",
      "execution_count": 4,
      "metadata": {
        "id": "yPfYq6esOYha",
        "colab": {
          "base_uri": "https://localhost:8080/"
        },
        "outputId": "e20aa61b-c952-4b05-fc74-21c209f2d97b"
      },
      "outputs": [
        {
          "output_type": "execute_result",
          "data": {
            "text/plain": [
              "0"
            ]
          },
          "metadata": {},
          "execution_count": 4
        }
      ],
      "source": [
        "# no null values\n",
        "df.isnull().sum().max()"
      ]
    },
    {
      "cell_type": "code",
      "execution_count": 5,
      "metadata": {
        "id": "_UZHEW2aPwNa",
        "colab": {
          "base_uri": "https://localhost:8080/",
          "height": 317
        },
        "outputId": "a36d007f-a821-4b44-bdb6-a66ee9fa6d63"
      },
      "outputs": [
        {
          "output_type": "display_data",
          "data": {
            "text/plain": [
              "<Figure size 432x288 with 1 Axes>"
            ],
            "image/png": "[encoded data removed]"
          },
          "metadata": {
            "needs_background": "light"
          }
        },
        {
          "output_type": "execute_result",
          "data": {
            "text/plain": [
              "0    284315\n",
              "1       492\n",
              "Name: Class, dtype: int64"
            ]
          },
          "metadata": {},
          "execution_count": 5
        }
      ],
      "source": [
        "hist = df['Class'].hist()\n",
        "plt.show()\n",
        "df['Class'].value_counts()"
      ]
    },
    {
      "cell_type": "code",
      "execution_count": 6,
      "metadata": {
        "id": "nfAyjOUfSXUL",
        "colab": {
          "base_uri": "https://localhost:8080/"
        },
        "outputId": "14d0ec3b-3418-474e-a481-bcaddd138ddf"
      },
      "outputs": [
        {
          "output_type": "execute_result",
          "data": {
            "text/plain": [
              "(284807, 30)"
            ]
          },
          "metadata": {},
          "execution_count": 6
        }
      ],
      "source": [
        "X = df.drop(['Class'], axis = 1)\n",
        "y = df['Class']\n",
        "X.shape"
      ]
    },
    {
      "cell_type": "code",
      "execution_count": 7,
      "metadata": {
        "id": "6I7UX67lmqNQ",
        "colab": {
          "base_uri": "https://localhost:8080/",
          "height": 299
        },
        "outputId": "0c29ec23-458e-4b82-99b9-a4bd63f0d782"
      },
      "outputs": [
        {
          "output_type": "execute_result",
          "data": {
            "text/plain": [
              "            Time        V1        V2        V3        V4        V5        V6  \\\n",
              "88883    62334.0 -0.896242 -0.106818  0.713506 -0.998828  0.287400 -1.086304   \n",
              "264268  161344.0  2.006268 -0.157982 -3.199315 -0.594284  2.674778  3.015109   \n",
              "116295   74219.0 -0.638702  0.318575  0.996004 -0.712339 -0.548571  0.076034   \n",
              "3878      3431.0 -0.411196  1.058416  1.391688  0.094177  0.015424 -0.705622   \n",
              "84047    60140.0  1.057529 -0.127356  0.900452  1.577774 -0.565966  0.298478   \n",
              "\n",
              "              V7        V8        V9  ...       V20       V21       V22  \\\n",
              "88883   0.766366 -0.075632 -0.033839  ... -0.179343  0.127866  0.255444   \n",
              "264268 -0.356381  0.720066  0.437740  ... -0.090000  0.204851  0.601916   \n",
              "116295 -0.383329  0.654718 -1.392730  ... -0.671358 -0.046782  0.048483   \n",
              "3878    0.623419  0.065370 -0.364254  ...  0.051901 -0.217784 -0.546209   \n",
              "84047  -0.332411  0.156855  0.846328  ... -0.126203 -0.064373  0.122969   \n",
              "\n",
              "             V23       V24       V25       V26       V27       V28  Amount  \n",
              "88883   0.078431  0.386769 -0.574850  0.795060 -0.099473  0.229974   80.00  \n",
              "264268  0.002056  0.637831  0.282224 -0.082584  0.012935 -0.034375   23.00  \n",
              "116295  0.015836 -0.589587 -0.627142 -0.548012  0.087444  0.111232   32.00  \n",
              "3878    0.064831  0.338212 -0.288922  0.082583  0.259279  0.097526    5.49  \n",
              "84047  -0.100207  0.115336  0.607090 -0.262013  0.067994  0.028500   40.00  \n",
              "\n",
              "[5 rows x 30 columns]"
            ],
            "text/html": [
              "\n",
              "  <div id=\"df-26ee3562-4dc9-4ee6-a302-0ee243dbb3ff\">\n",
              "    <div class=\"colab-df-container\">\n",
              "      <div>\n",
              "<style scoped>\n",
              "    .dataframe tbody tr th:only-of-type {\n",
              "        vertical-align: middle;\n",
              "    }\n",
              "\n",
              "    .dataframe tbody tr th {\n",
              "        vertical-align: top;\n",
              "    }\n",
              "\n",
              "    .dataframe thead th {\n",
              "        text-align: right;\n",
              "    }\n",
              "</style>\n",
              "<table border=\"1\" class=\"dataframe\">\n",
              "  <thead>\n",
              "    <tr style=\"text-align: right;\">\n",
              "      <th></th>\n",
              "      <th>Time</th>\n",
              "      <th>V1</th>\n",
              "      <th>V2</th>\n",
              "      <th>V3</th>\n",
              "      <th>V4</th>\n",
              "      <th>V5</th>\n",
              "      <th>V6</th>\n",
              "      <th>V7</th>\n",
              "      <th>V8</th>\n",
              "      <th>V9</th>\n",
              "      <th>...</th>\n",
              "      <th>V20</th>\n",
              "      <th>V21</th>\n",
              "      <th>V22</th>\n",
              "      <th>V23</th>\n",
              "      <th>V24</th>\n",
              "      <th>V25</th>\n",
              "      <th>V26</th>\n",
              "      <th>V27</th>\n",
              "      <th>V28</th>\n",
              "      <th>Amount</th>\n",
              "    </tr>\n",
              "  </thead>\n",
              "  <tbody>\n",
              "    <tr>\n",
              "      <th>88883</th>\n",
              "      <td>62334.0</td>\n",
              "      <td>-0.896242</td>\n",
              "      <td>-0.106818</td>\n",
              "      <td>0.713506</td>\n",
              "      <td>-0.998828</td>\n",
              "      <td>0.287400</td>\n",
              "      <td>-1.086304</td>\n",
              "      <td>0.766366</td>\n",
              "      <td>-0.075632</td>\n",
              "      <td>-0.033839</td>\n",
              "      <td>...</td>\n",
              "      <td>-0.179343</td>\n",
              "      <td>0.127866</td>\n",
              "      <td>0.255444</td>\n",
              "      <td>0.078431</td>\n",
              "      <td>0.386769</td>\n",
              "      <td>-0.574850</td>\n",
              "      <td>0.795060</td>\n",
              "      <td>-0.099473</td>\n",
              "      <td>0.229974</td>\n",
              "      <td>80.00</td>\n",
              "    </tr>\n",
              "    <tr>\n",
              "      <th>264268</th>\n",
              "      <td>161344.0</td>\n",
              "      <td>2.006268</td>\n",
              "      <td>-0.157982</td>\n",
              "      <td>-3.199315</td>\n",
              "      <td>-0.594284</td>\n",
              "      <td>2.674778</td>\n",
              "      <td>3.015109</td>\n",
              "      <td>-0.356381</td>\n",
              "      <td>0.720066</td>\n",
              "      <td>0.437740</td>\n",
              "      <td>...</td>\n",
              "      <td>-0.090000</td>\n",
              "      <td>0.204851</td>\n",
              "      <td>0.601916</td>\n",
              "      <td>0.002056</td>\n",
              "      <td>0.637831</td>\n",
              "      <td>0.282224</td>\n",
              "      <td>-0.082584</td>\n",
              "      <td>0.012935</td>\n",
              "      <td>-0.034375</td>\n",
              "      <td>23.00</td>\n",
              "    </tr>\n",
              "    <tr>\n",
              "      <th>116295</th>\n",
              "      <td>74219.0</td>\n",
              "      <td>-0.638702</td>\n",
              "      <td>0.318575</td>\n",
              "      <td>0.996004</td>\n",
              "      <td>-0.712339</td>\n",
              "      <td>-0.548571</td>\n",
              "      <td>0.076034</td>\n",
              "      <td>-0.383329</td>\n",
              "      <td>0.654718</td>\n",
              "      <td>-1.392730</td>\n",
              "      <td>...</td>\n",
              "      <td>-0.671358</td>\n",
              "      <td>-0.046782</td>\n",
              "      <td>0.048483</td>\n",
              "      <td>0.015836</td>\n",
              "      <td>-0.589587</td>\n",
              "      <td>-0.627142</td>\n",
              "      <td>-0.548012</td>\n",
              "      <td>0.087444</td>\n",
              "      <td>0.111232</td>\n",
              "      <td>32.00</td>\n",
              "    </tr>\n",
              "    <tr>\n",
              "      <th>3878</th>\n",
              "      <td>3431.0</td>\n",
              "      <td>-0.411196</td>\n",
              "      <td>1.058416</td>\n",
              "      <td>1.391688</td>\n",
              "      <td>0.094177</td>\n",
              "      <td>0.015424</td>\n",
              "      <td>-0.705622</td>\n",
              "      <td>0.623419</td>\n",
              "      <td>0.065370</td>\n",
              "      <td>-0.364254</td>\n",
              "      <td>...</td>\n",
              "      <td>0.051901</td>\n",
              "      <td>-0.217784</td>\n",
              "      <td>-0.546209</td>\n",
              "      <td>0.064831</td>\n",
              "      <td>0.338212</td>\n",
              "      <td>-0.288922</td>\n",
              "      <td>0.082583</td>\n",
              "      <td>0.259279</td>\n",
              "      <td>0.097526</td>\n",
              "      <td>5.49</td>\n",
              "    </tr>\n",
              "    <tr>\n",
              "      <th>84047</th>\n",
              "      <td>60140.0</td>\n",
              "      <td>1.057529</td>\n",
              "      <td>-0.127356</td>\n",
              "      <td>0.900452</td>\n",
              "      <td>1.577774</td>\n",
              "      <td>-0.565966</td>\n",
              "      <td>0.298478</td>\n",
              "      <td>-0.332411</td>\n",
              "      <td>0.156855</td>\n",
              "      <td>0.846328</td>\n",
              "      <td>...</td>\n",
              "      <td>-0.126203</td>\n",
              "      <td>-0.064373</td>\n",
              "      <td>0.122969</td>\n",
              "      <td>-0.100207</td>\n",
              "      <td>0.115336</td>\n",
              "      <td>0.607090</td>\n",
              "      <td>-0.262013</td>\n",
              "      <td>0.067994</td>\n",
              "      <td>0.028500</td>\n",
              "      <td>40.00</td>\n",
              "    </tr>\n",
              "  </tbody>\n",
              "</table>\n",
              "<p>5 rows × 30 columns</p>\n",
              "</div>\n",
              "      <button class=\"colab-df-convert\" onclick=\"convertToInteractive('df-26ee3562-4dc9-4ee6-a302-0ee243dbb3ff')\"\n",
              "              title=\"Convert this dataframe to an interactive table.\"\n",
              "              style=\"display:none;\">\n",
              "        \n",
              "  <svg xmlns=\"http://www.w3.org/2000/svg\" height=\"24px\"viewBox=\"0 0 24 24\"\n",
              "       width=\"24px\">\n",
              "    <path d=\"M0 0h24v24H0V0z\" fill=\"none\"/>\n",
              "    <path d=\"M18.56 5.44l.94 2.06.94-2.06 2.06-.94-2.06-.94-.94-2.06-.94 2.06-2.06.94zm-11 1L8.5 8.5l.94-2.06 2.06-.94-2.06-.94L8.5 2.5l-.94 2.06-2.06.94zm10 10l.94 2.06.94-2.06 2.06-.94-2.06-.94-.94-2.06-.94 2.06-2.06.94z\"/><path d=\"M17.41 7.96l-1.37-1.37c-.4-.4-.92-.59-1.43-.59-.52 0-1.04.2-1.43.59L10.3 9.45l-7.72 7.72c-.78.78-.78 2.05 0 2.83L4 21.41c.39.39.9.59 1.41.59.51 0 1.02-.2 1.41-.59l7.78-7.78 2.81-2.81c.8-.78.8-2.07 0-2.86zM5.41 20L4 18.59l7.72-7.72 1.47 1.35L5.41 20z\"/>\n",
              "  </svg>\n",
              "      </button>\n",
              "      \n",
              "  <style>\n",
              "    .colab-df-container {\n",
              "      display:flex;\n",
              "      flex-wrap:wrap;\n",
              "      gap: 12px;\n",
              "    }\n",
              "\n",
              "    .colab-df-convert {\n",
              "      background-color: #E8F0FE;\n",
              "      border: none;\n",
              "      border-radius: 50%;\n",
              "      cursor: pointer;\n",
              "      display: none;\n",
              "      fill: #1967D2;\n",
              "      height: 32px;\n",
              "      padding: 0 0 0 0;\n",
              "      width: 32px;\n",
              "    }\n",
              "\n",
              "    .colab-df-convert:hover {\n",
              "      background-color: #E2EBFA;\n",
              "      box-shadow: 0px 1px 2px rgba(60, 64, 67, 0.3), 0px 1px 3px 1px rgba(60, 64, 67, 0.15);\n",
              "      fill: #174EA6;\n",
              "    }\n",
              "\n",
              "    [theme=dark] .colab-df-convert {\n",
              "      background-color: #3B4455;\n",
              "      fill: #D2E3FC;\n",
              "    }\n",
              "\n",
              "    [theme=dark] .colab-df-convert:hover {\n",
              "      background-color: #434B5C;\n",
              "      box-shadow: 0px 1px 3px 1px rgba(0, 0, 0, 0.15);\n",
              "      filter: drop-shadow(0px 1px 2px rgba(0, 0, 0, 0.3));\n",
              "      fill: #FFFFFF;\n",
              "    }\n",
              "  </style>\n",
              "\n",
              "      <script>\n",
              "        const buttonEl =\n",
              "          document.querySelector('#df-26ee3562-4dc9-4ee6-a302-0ee243dbb3ff button.colab-df-convert');\n",
              "        buttonEl.style.display =\n",
              "          google.colab.kernel.accessAllowed ? 'block' : 'none';\n",
              "\n",
              "        async function convertToInteractive(key) {\n",
              "          const element = document.querySelector('#df-26ee3562-4dc9-4ee6-a302-0ee243dbb3ff');\n",
              "          const dataTable =\n",
              "            await google.colab.kernel.invokeFunction('convertToInteractive',\n",
              "                                                     [key], {});\n",
              "          if (!dataTable) return;\n",
              "\n",
              "          const docLinkHtml = 'Like what you see? Visit the ' +\n",
              "            '<a target=\"_blank\" href=https://colab.research.google.com/notebooks/data_table.ipynb>data table notebook</a>'\n",
              "            + ' to learn more about interactive tables.';\n",
              "          element.innerHTML = '';\n",
              "          dataTable['output_type'] = 'display_data';\n",
              "          await google.colab.output.renderOutput(dataTable, element);\n",
              "          const docLink = document.createElement('div');\n",
              "          docLink.innerHTML = docLinkHtml;\n",
              "          element.appendChild(docLink);\n",
              "        }\n",
              "      </script>\n",
              "    </div>\n",
              "  </div>\n",
              "  "
            ]
          },
          "metadata": {},
          "execution_count": 7
        }
      ],
      "source": [
        "from sklearn.model_selection import train_test_split\n",
        "\n",
        "RANDOM_SEED = 2117\n",
        "TEST_SET_PROP = 0.2\n",
        "X_train, X_test, y_train, y_test = train_test_split(X, y, stratify=y, test_size=TEST_SET_PROP,\n",
        "                                                    random_state = RANDOM_SEED)\n",
        "X_train.head()"
      ]
    },
    {
      "cell_type": "markdown",
      "metadata": {
        "id": "N6bb3DqFqy3F"
      },
      "source": [
        "## Logistic Reg fitting\n",
        "\n",
        "### logistic with l2, adjusted class weight"
      ]
    },
    {
      "cell_type": "code",
      "execution_count": 82,
      "metadata": {
        "id": "B5JxTJ_3qxXX",
        "colab": {
          "base_uri": "https://localhost:8080/"
        },
        "outputId": "8ec519d6-217f-435e-912a-a5be06000ac8"
      },
      "outputs": [
        {
          "output_type": "stream",
          "name": "stdout",
          "text": [
            "{'mean_fit_time': array([2.48907914, 3.31287556, 4.08096662, 3.48538957, 3.15280633]),\n",
            " 'mean_score_time': array([0.03683   , 0.03413782, 0.0488698 , 0.03241539, 0.03881273]),\n",
            " 'mean_test_score': array([0.76045143, 0.761769  , 0.75982428, 0.7598821 , 0.75988876]),\n",
            " 'param_logistic__C': masked_array(data=[0.01, 0.1, 1, 10, 100],\n",
            "             mask=[False, False, False, False, False],\n",
            "       fill_value='?',\n",
            "            dtype=object),\n",
            " 'params': [{'logistic__C': 0.01},\n",
            "            {'logistic__C': 0.1},\n",
            "            {'logistic__C': 1},\n",
            "            {'logistic__C': 10},\n",
            "            {'logistic__C': 100}],\n",
            " 'rank_test_score': array([2, 1, 5, 4, 3], dtype=int32),\n",
            " 'split0_test_score': array([0.73330466, 0.73640936, 0.73735897, 0.73735408, 0.73735409]),\n",
            " 'split1_test_score': array([0.67995847, 0.68784423, 0.68957177, 0.68976529, 0.68976567]),\n",
            " 'split2_test_score': array([0.81812105, 0.821012  , 0.82092323, 0.82082806, 0.82086049]),\n",
            " 'split3_test_score': array([0.75830038, 0.75139172, 0.73940539, 0.73941992, 0.73942034]),\n",
            " 'split4_test_score': array([0.81257258, 0.8121877 , 0.81186206, 0.81204313, 0.81204322]),\n",
            " 'std_fit_time': array([0.34149539, 0.32253365, 0.52780867, 0.33113215, 0.24571921]),\n",
            " 'std_score_time': array([0.01090492, 0.00730685, 0.03338322, 0.0016385 , 0.00824858]),\n",
            " 'std_test_score': array([0.05150357, 0.04953271, 0.04959445, 0.04955353, 0.04956139])}\n",
            "{'logistic__C': 0.1}\n"
          ]
        }
      ],
      "source": [
        "# will use l2 regularization\n",
        "from sklearn.model_selection import train_test_split, GridSearchCV, StratifiedKFold\n",
        "from sklearn.preprocessing import StandardScaler\n",
        "\n",
        "pipe_log_l1 = Pipeline(steps = [('scaler', StandardScaler()),\n",
        "                                ('logistic',LogisticRegression(penalty = 'l2', class_weight='balanced', random_state = RANDOM_SEED, max_iter = 1000,\n",
        "                                                               solver='lbfgs',n_jobs=-1))]) \n",
        "\n",
        "stratified_kfold = StratifiedKFold(n_splits=5,\n",
        "                                   shuffle=True,\n",
        "                                   random_state=RANDOM_SEED)\n",
        "    \n",
        "param_grid = {'logistic__C':[0.01, 0.1, 1, 10, 100]}\n",
        "grid_search = GridSearchCV(estimator=pipe_log_l1,\n",
        "                           param_grid=param_grid,\n",
        "                           scoring='average_precision',\n",
        "                           cv=stratified_kfold)\n",
        "\n",
        "grid_search.fit(X_train, y_train)\n",
        "pprint(grid_search.cv_results_)\n",
        "print(grid_search.best_params_)"
      ]
    },
    {
      "cell_type": "code",
      "execution_count": 83,
      "metadata": {
        "id": "Yj9UI0pnqxv5"
      },
      "outputs": [],
      "source": [
        "pipe = Pipeline(steps = [('scaler', StandardScaler()),\n",
        "                         ('logistic',LogisticRegression(penalty = 'l2', class_weight='balanced', random_state = RANDOM_SEED, max_iter = 1000,\n",
        "                                                        solver='lbfgs',n_jobs=-1, C = 0.1))])"
      ]
    },
    {
      "cell_type": "code",
      "source": [
        "pipe.fit(X_train, y_train)\n",
        "predictions = pipe.predict(X_test)\n",
        "t0, f1, f0, t1 = metrics.confusion_matrix(y_test, predictions).ravel()\n",
        "acc0 = t0/(t0 + f1)\n",
        "acc1 = t1/(t1 + f0)\n",
        "g_mean = sqrt(acc0*acc1)\n",
        "prec0 = t0/(t0 + f0)\n",
        "prec1 = t1/(t1 + f1)\n",
        "f_sc = 2*prec1*acc1/(prec1+acc1)\n",
        "auc = roc_auc_score(y_test, pipe.predict_proba(X_test)[:,1])\n",
        "auc_pr = average_precision_score(y_test, pipe.predict_proba(X_test)[:,1])\n",
        "print([100*acc0, 100*acc1, 100*g_mean, 100*f_sc, 100*prec0, 100*prec1, 100*auc, 100*auc_pr])"
      ],
      "metadata": {
        "colab": {
          "base_uri": "https://localhost:8080/"
        },
        "id": "ZcqTVqiuVsNI",
        "outputId": "074cc84e-483a-4f7d-a227-f3b40dd7a772"
      },
      "execution_count": 84,
      "outputs": [
        {
          "output_type": "stream",
          "name": "stdout",
          "text": [
            "[97.79297974113675, 88.77551020408163, 93.17522026213211, 12.083333333333334, 99.98022294138799, 6.482861400894188, 96.97242184718569, 65.0819866121964]\n"
          ]
        }
      ]
    },
    {
      "cell_type": "markdown",
      "source": [
        "### logistic with l2, no adjustments for class imbalance"
      ],
      "metadata": {
        "id": "MKrw_mRIsvIH"
      }
    },
    {
      "cell_type": "code",
      "execution_count": 85,
      "metadata": {
        "id": "d_ItSb6Wqx4s",
        "colab": {
          "base_uri": "https://localhost:8080/"
        },
        "outputId": "0d1ae760-7c0d-434c-de45-b8fe5d4edba4"
      },
      "outputs": [
        {
          "output_type": "stream",
          "name": "stdout",
          "text": [
            "{'mean_fit_time': array([1.93158383, 3.10896821, 3.37142639, 2.93865519, 3.29592261]),\n",
            " 'mean_score_time': array([0.0309495 , 0.03196282, 0.03117023, 0.03075547, 0.03024516]),\n",
            " 'mean_test_score': array([0.7741599 , 0.7776915 , 0.77798766, 0.7778202 , 0.77778348]),\n",
            " 'param_logistic__C': masked_array(data=[0.01, 0.1, 1, 10, 100],\n",
            "             mask=[False, False, False, False, False],\n",
            "       fill_value='?',\n",
            "            dtype=object),\n",
            " 'params': [{'logistic__C': 0.01},\n",
            "            {'logistic__C': 0.1},\n",
            "            {'logistic__C': 1},\n",
            "            {'logistic__C': 10},\n",
            "            {'logistic__C': 100}],\n",
            " 'rank_test_score': array([5, 4, 1, 2, 3], dtype=int32),\n",
            " 'split0_test_score': array([0.74854145, 0.75313193, 0.75616661, 0.75592883, 0.75600905]),\n",
            " 'split1_test_score': array([0.69326636, 0.6976374 , 0.70026869, 0.70080666, 0.70071444]),\n",
            " 'split2_test_score': array([0.82943297, 0.83691423, 0.83972879, 0.83967415, 0.83967284]),\n",
            " 'split3_test_score': array([0.76469991, 0.7653256 , 0.76208358, 0.7616848 , 0.7616696 ]),\n",
            " 'split4_test_score': array([0.83485879, 0.83544834, 0.83169065, 0.83100655, 0.83085149]),\n",
            " 'std_fit_time': array([0.55369642, 0.30953433, 0.54700585, 0.59523354, 0.20834062]),\n",
            " 'std_score_time': array([0.00511407, 0.00187225, 0.00169594, 0.00155237, 0.00115761]),\n",
            " 'std_test_score': array([0.05296986, 0.05293001, 0.05189473, 0.05162435, 0.05161381])}\n",
            "{'logistic__C': 1}\n"
          ]
        }
      ],
      "source": [
        "pipe_log_l2 = Pipeline(steps = [('scaler', StandardScaler()),\n",
        "                                ('logistic',LogisticRegression(penalty = 'l2', class_weight='none', random_state = RANDOM_SEED, max_iter = 1000,\n",
        "                                                               solver='lbfgs',n_jobs=-1))]) \n",
        "\n",
        "stratified_kfold = StratifiedKFold(n_splits=5,\n",
        "                                   shuffle=True,\n",
        "                                   random_state=RANDOM_SEED)\n",
        "    \n",
        "param_grid = {'logistic__C':[0.01, 0.1, 1, 10, 100]}\n",
        "grid_search = GridSearchCV(estimator=pipe_log_l2,\n",
        "                           param_grid=param_grid,\n",
        "                           scoring='average_precision',\n",
        "                           cv=stratified_kfold)\n",
        "\n",
        "grid_search.fit(X_train, y_train)\n",
        "pprint(grid_search.cv_results_)\n",
        "print(grid_search.best_params_)"
      ]
    },
    {
      "cell_type": "code",
      "execution_count": 86,
      "metadata": {
        "id": "arr7-2iKqx8B",
        "colab": {
          "base_uri": "https://localhost:8080/"
        },
        "outputId": "b4626926-96e5-4e88-b2dc-ca3b9cc6cd35"
      },
      "outputs": [
        {
          "output_type": "stream",
          "name": "stdout",
          "text": [
            "[99.97889701744514, 53.06122448979592, 72.8354494657982, 64.19753086419753, 99.91915357306056, 81.25, 96.93274608661697, 69.13750262584375]\n"
          ]
        }
      ],
      "source": [
        "pipe = Pipeline(steps = [('scaler', StandardScaler()),\n",
        "                         ('logistic',LogisticRegression(penalty = 'l2', class_weight='none', random_state = RANDOM_SEED, max_iter = 1000,\n",
        "                                                        solver='lbfgs',n_jobs=-1, C = 0.1))])\n",
        "\n",
        "pipe.fit(X_train, y_train)\n",
        "predictions = pipe.predict(X_test)\n",
        "t0, f1, f0, t1 = metrics.confusion_matrix(y_test, predictions).ravel()\n",
        "acc0 = t0/(t0 + f1)\n",
        "acc1 = t1/(t1 + f0)\n",
        "g_mean = sqrt(acc0*acc1)\n",
        "prec0 = t0/(t0 + f0)\n",
        "prec1 = t1/(t1 + f1)\n",
        "f_sc = 2*prec1*acc1/(prec1+acc1)\n",
        "auc = roc_auc_score(y_test, pipe.predict_proba(X_test)[:,1])\n",
        "auc_pr = average_precision_score(y_test, pipe.predict_proba(X_test)[:,1])\n",
        "print([100*acc0, 100*acc1, 100*g_mean, 100*f_sc, 100*prec0, 100*prec1, 100*auc, 100*auc_pr])"
      ]
    },
    {
      "cell_type": "markdown",
      "source": [
        "### logistic with l2, smote"
      ],
      "metadata": {
        "id": "19yHrPIhv22K"
      }
    },
    {
      "cell_type": "code",
      "source": [
        "from imblearn.pipeline import Pipeline as imbpipeline"
      ],
      "metadata": {
        "id": "ZvQKUsr033a-"
      },
      "execution_count": 9,
      "outputs": []
    },
    {
      "cell_type": "code",
      "execution_count": 89,
      "metadata": {
        "id": "t32vZxLsqx_y",
        "colab": {
          "base_uri": "https://localhost:8080/"
        },
        "outputId": "00277186-b0ba-4de9-c328-9ce479be90e9"
      },
      "outputs": [
        {
          "output_type": "stream",
          "name": "stdout",
          "text": [
            "{'mean_fit_time': array([ 7.45805035, 11.43012671, 13.06121693, 13.33958592, 12.06928082]),\n",
            " 'mean_score_time': array([0.04397645, 0.03381333, 0.03337069, 0.03054004, 0.03056669]),\n",
            " 'mean_test_score': array([0.77063185, 0.77239071, 0.7669996 , 0.76638153, 0.76637205]),\n",
            " 'param_logistic__C': masked_array(data=[0.01, 0.1, 1, 10, 100],\n",
            "             mask=[False, False, False, False, False],\n",
            "       fill_value='?',\n",
            "            dtype=object),\n",
            " 'params': [{'logistic__C': 0.01},\n",
            "            {'logistic__C': 0.1},\n",
            "            {'logistic__C': 1},\n",
            "            {'logistic__C': 10},\n",
            "            {'logistic__C': 100}],\n",
            " 'rank_test_score': array([2, 1, 3, 4, 5], dtype=int32),\n",
            " 'split0_test_score': array([0.7380302 , 0.7430408 , 0.74242965, 0.74152981, 0.74152917]),\n",
            " 'split1_test_score': array([0.69771186, 0.70738199, 0.70548057, 0.70514636, 0.70514201]),\n",
            " 'split2_test_score': array([0.82860432, 0.83039162, 0.82983845, 0.82989816, 0.82991271]),\n",
            " 'split3_test_score': array([0.77042646, 0.76560582, 0.74260585, 0.74053378, 0.74052929]),\n",
            " 'split4_test_score': array([0.81838642, 0.81553333, 0.81464346, 0.81479955, 0.81474706]),\n",
            " 'std_fit_time': array([0.87382766, 1.36892851, 1.38215984, 1.58515422, 1.58074975]),\n",
            " 'std_score_time': array([0.0145819 , 0.00316953, 0.00339004, 0.00151784, 0.00325938]),\n",
            " 'std_test_score': array([0.04903375, 0.04551698, 0.04733284, 0.04777892, 0.04777382])}\n",
            "{'logistic__C': 0.1}\n"
          ]
        }
      ],
      "source": [
        "from imblearn.pipeline import Pipeline as imbpipeline\n",
        "pipe_log_l3 = imbpipeline(steps = [('smote', SMOTE(random_state=RANDOM_SEED)),\n",
        "                                   ('scaler', StandardScaler()),\n",
        "                                   ('logistic',LogisticRegression(penalty = 'l2', class_weight='none', random_state = RANDOM_SEED, max_iter = 1000,\n",
        "                                                                  solver='lbfgs',n_jobs=-1))]) \n",
        "\n",
        "stratified_kfold = StratifiedKFold(n_splits=5,\n",
        "                                   shuffle=True,\n",
        "                                   random_state=RANDOM_SEED)\n",
        "    \n",
        "param_grid = {'logistic__C':[0.01, 0.1, 1, 10, 100]}\n",
        "grid_search = GridSearchCV(estimator=pipe_log_l3,\n",
        "                           param_grid=param_grid,\n",
        "                           scoring='average_precision',\n",
        "                           cv=stratified_kfold)\n",
        "\n",
        "grid_search.fit(X_train, y_train)\n",
        "pprint(grid_search.cv_results_)\n",
        "print(grid_search.best_params_)"
      ]
    },
    {
      "cell_type": "code",
      "source": [
        "pipe = imbpipeline(steps = [('smote', SMOTE(random_state=RANDOM_SEED)),\n",
        "                            ('scaler', StandardScaler()),\n",
        "                            ('logistic',LogisticRegression(penalty = 'l2', class_weight='none', random_state = RANDOM_SEED, max_iter = 1000,\n",
        "                                                           solver='lbfgs',n_jobs=-1, C = 0.1))]) \n",
        "\n",
        "pipe.fit(X_train, y_train)\n",
        "predictions = pipe.predict(X_test)\n",
        "t0, f1, f0, t1 = metrics.confusion_matrix(y_test, predictions).ravel()\n",
        "acc0 = t0/(t0 + f1)\n",
        "acc1 = t1/(t1 + f0)\n",
        "g_mean = sqrt(acc0*acc1)\n",
        "prec0 = t0/(t0 + f0)\n",
        "prec1 = t1/(t1 + f1)\n",
        "f_sc = 2*prec1*acc1/(prec1+acc1)\n",
        "auc = roc_auc_score(y_test, pipe.predict_proba(X_test)[:,1])\n",
        "auc_pr = average_precision_score(y_test, pipe.predict_proba(X_test)[:,1])\n",
        "print([100*acc0, 100*acc1, 100*g_mean, 100*f_sc, 100*prec0, 100*prec1, 100*auc, 100*auc_pr])"
      ],
      "metadata": {
        "colab": {
          "base_uri": "https://localhost:8080/"
        },
        "id": "Z_JD8nSmv6fK",
        "outputId": "950a9986-25c5-4240-9082-fe3bd028d673"
      },
      "execution_count": 90,
      "outputs": [
        {
          "output_type": "stream",
          "name": "stdout",
          "text": [
            "[99.12070906021384, 86.73469387755102, 92.72111063432882, 24.890190336749637, 99.97694095109708, 14.529914529914532, 96.97949206413008, 67.73697625055887]\n"
          ]
        }
      ]
    },
    {
      "cell_type": "markdown",
      "source": [
        "### logistic with l2, random oversampling"
      ],
      "metadata": {
        "id": "FA4cR0zJzFEu"
      }
    },
    {
      "cell_type": "code",
      "source": [
        "from imblearn.pipeline import Pipeline as imbpipeline\n",
        "pipe_log_l4 = imbpipeline(steps = [('ros', RandomOverSampler(random_state=RANDOM_SEED)),\n",
        "                                   ('scaler', StandardScaler()),\n",
        "                                   ('logistic',LogisticRegression(penalty = 'l2', class_weight='none', random_state = RANDOM_SEED, max_iter = 1000,\n",
        "                                                                  solver='lbfgs',n_jobs=-1))]) \n",
        "\n",
        "stratified_kfold = StratifiedKFold(n_splits=5,\n",
        "                                   shuffle=True,\n",
        "                                   random_state=RANDOM_SEED)\n",
        "    \n",
        "param_grid = {'logistic__C':[0.01, 0.1, 1, 10, 100]}\n",
        "grid_search = GridSearchCV(estimator=pipe_log_l4,\n",
        "                           param_grid=param_grid,\n",
        "                           scoring='average_precision',\n",
        "                           cv=stratified_kfold)\n",
        "\n",
        "grid_search.fit(X_train, y_train)\n",
        "pprint(grid_search.cv_results_)\n",
        "print(grid_search.best_params_)"
      ],
      "metadata": {
        "colab": {
          "base_uri": "https://localhost:8080/"
        },
        "id": "93Zipn8Yv6mc",
        "outputId": "eef186f4-cca7-4f36-82c5-118c21972692"
      },
      "execution_count": 93,
      "outputs": [
        {
          "output_type": "stream",
          "name": "stdout",
          "text": [
            "{'mean_fit_time': array([ 6.3945519 ,  9.42349391, 10.6113152 , 11.773914  , 10.09261041]),\n",
            " 'mean_score_time': array([0.03046603, 0.03662448, 0.02957196, 0.03175311, 0.03109865]),\n",
            " 'mean_test_score': array([0.73888957, 0.7595162 , 0.76085425, 0.75997957, 0.75998242]),\n",
            " 'param_logistic__C': masked_array(data=[0.01, 0.1, 1, 10, 100],\n",
            "             mask=[False, False, False, False, False],\n",
            "       fill_value='?',\n",
            "            dtype=object),\n",
            " 'params': [{'logistic__C': 0.01},\n",
            "            {'logistic__C': 0.1},\n",
            "            {'logistic__C': 1},\n",
            "            {'logistic__C': 10},\n",
            "            {'logistic__C': 100}],\n",
            " 'rank_test_score': array([5, 4, 1, 3, 2], dtype=int32),\n",
            " 'split0_test_score': array([0.71703274, 0.73411445, 0.73702498, 0.73730908, 0.73731053]),\n",
            " 'split1_test_score': array([0.65127777, 0.68293017, 0.68926964, 0.69028154, 0.69029363]),\n",
            " 'split2_test_score': array([0.80023875, 0.81794308, 0.82205058, 0.82132954, 0.82136278]),\n",
            " 'split3_test_score': array([0.73620642, 0.75268576, 0.74390881, 0.73920125, 0.73928251]),\n",
            " 'split4_test_score': array([0.78969214, 0.80990756, 0.81201724, 0.81177642, 0.81166268]),\n",
            " 'std_fit_time': array([0.4075042 , 0.67318459, 1.48983094, 2.92751466, 1.57503703]),\n",
            " 'std_score_time': array([0.00291151, 0.00898725, 0.00192534, 0.00193281, 0.00150899]),\n",
            " 'std_test_score': array([0.05386162, 0.05002062, 0.04968296, 0.04949796, 0.04947207])}\n",
            "{'logistic__C': 1}\n"
          ]
        }
      ]
    },
    {
      "cell_type": "code",
      "source": [
        "pipe = imbpipeline(steps = [('ros', RandomOverSampler(random_state=RANDOM_SEED)),\n",
        "                                   ('scaler', StandardScaler()),\n",
        "                                   ('logistic',LogisticRegression(penalty = 'l2', class_weight='none', random_state = RANDOM_SEED, max_iter = 1000,\n",
        "                                                                  solver='lbfgs',n_jobs=-1, C = 1))]) \n",
        "\n",
        "pipe.fit(X_train, y_train)\n",
        "predictions = pipe.predict(X_test)\n",
        "t0, f1, f0, t1 = metrics.confusion_matrix(y_test, predictions).ravel()\n",
        "acc0 = t0/(t0 + f1)\n",
        "acc1 = t1/(t1 + f0)\n",
        "g_mean = sqrt(acc0*acc1)\n",
        "prec0 = t0/(t0 + f0)\n",
        "prec1 = t1/(t1 + f1)\n",
        "f_sc = 2*prec1*acc1/(prec1+acc1)\n",
        "auc = roc_auc_score(y_test, pipe.predict_proba(X_test)[:,1])\n",
        "auc_pr = average_precision_score(y_test, pipe.predict_proba(X_test)[:,1])\n",
        "print([100*acc0, 100*acc1, 100*g_mean, 100*f_sc, 100*prec0, 100*prec1, 100*auc, 100*auc_pr])"
      ],
      "metadata": {
        "colab": {
          "base_uri": "https://localhost:8080/"
        },
        "id": "WwcvtRrRv6ox",
        "outputId": "895efcfa-1545-47d0-d9f7-95e0deb35e70"
      },
      "execution_count": 95,
      "outputs": [
        {
          "output_type": "stream",
          "name": "stdout",
          "text": [
            "[97.77539392234102, 88.77551020408163, 93.16684217499747, 12.0, 99.9802193850027, 6.43491124260355, 96.96287525983945, 64.61038382791915]\n"
          ]
        }
      ]
    },
    {
      "cell_type": "markdown",
      "source": [
        "### logistic with l2, adasyn, bsmote, svmsmote, rus"
      ],
      "metadata": {
        "id": "5Oxd9FD83cyz"
      }
    },
    {
      "cell_type": "code",
      "source": [
        "methods = [ADASYN(random_state = RANDOM_SEED), BorderlineSMOTE(random_state = RANDOM_SEED),\n",
        "           SVMSMOTE(random_state = RANDOM_SEED), RandomUnderSampler(random_state = RANDOM_SEED)]\n",
        "\n",
        "Cvalues = []\n",
        "for method in methods:\n",
        "  pipe_log_ = imbpipeline(steps = [('ros', method),\n",
        "                                   ('scaler', StandardScaler()),\n",
        "                                   ('logistic',LogisticRegression(penalty = 'l2', class_weight='none', random_state = RANDOM_SEED, max_iter = 1000,\n",
        "                                                                  solver='lbfgs',n_jobs=-1))])\n",
        "  stratified_kfold = StratifiedKFold(n_splits=5,\n",
        "                                   shuffle=True,\n",
        "                                   random_state=RANDOM_SEED)\n",
        "    \n",
        "  param_grid = {'logistic__C':[0.01, 0.1, 1, 10, 100]}\n",
        "  grid_search = GridSearchCV(estimator=pipe_log_,\n",
        "                           param_grid=param_grid,\n",
        "                           scoring='average_precision',\n",
        "                           cv=stratified_kfold)\n",
        "\n",
        "  grid_search.fit(X_train, y_train)\n",
        "  print(method)\n",
        "  c = grid_search.best_params_['logistic__C']\n",
        "  Cvalues.append(c)\n",
        "  pipe = imbpipeline(steps = [('method', method),\n",
        "                              ('scaler', StandardScaler()),\n",
        "                              ('logistic',LogisticRegression(penalty = 'l2', class_weight='none', random_state = RANDOM_SEED, max_iter = 1000,\n",
        "                                                             solver='lbfgs',n_jobs=-1, C = c))]) \n",
        "\n",
        "  pipe.fit(X_train, y_train)\n",
        "  predictions = pipe.predict(X_test)\n",
        "  t0, f1, f0, t1 = metrics.confusion_matrix(y_test, predictions).ravel()\n",
        "  acc0 = t0/(t0 + f1)\n",
        "  acc1 = t1/(t1 + f0)\n",
        "  g_mean = sqrt(acc0*acc1)\n",
        "  prec0 = t0/(t0 + f0)\n",
        "  prec1 = t1/(t1 + f1)\n",
        "  f_sc = 2*prec1*acc1/(prec1+acc1)\n",
        "  auc = roc_auc_score(y_test, pipe.predict_proba(X_test)[:,1])\n",
        "  auc_pr = average_precision_score(y_test, pipe.predict_proba(X_test)[:,1])\n",
        "  print(c)\n",
        "  print([100*acc0, 100*acc1, 100*g_mean, 100*f_sc, 100*prec0, 100*prec1, 100*auc, 100*auc_pr])"
      ],
      "metadata": {
        "colab": {
          "base_uri": "https://localhost:8080/"
        },
        "id": "NG4K2cu_v6qp",
        "outputId": "e4cc7753-1e7a-49dc-839f-64ea04c1e289"
      },
      "execution_count": 119,
      "outputs": [
        {
          "output_type": "stream",
          "name": "stdout",
          "text": [
            "ADASYN(random_state=2117)\n",
            "0.1\n",
            "[99.06091727630837, 86.73469387755102, 92.69314071273025, 23.709902370990232, 99.97692703618905, 13.731825525040387, 97.02096229600451, 68.09732934381385]\n",
            "BorderlineSMOTE(random_state=2117)\n",
            "1\n",
            "[99.72214406302757, 80.61224489795919, 89.65949976973073, 47.164179104477604, 99.96650506831203, 33.33333333333333, 94.50383047844912, 66.78621100292716]\n",
            "SVMSMOTE(random_state=2117)\n",
            "10\n",
            "[99.80831457512662, 79.59183673469387, 89.12871074142409, 54.73684210526315, 99.96477322765301, 41.711229946524064, 94.23056838801926, 65.73388033043783]\n",
            "RandomUnderSampler(random_state=2117)\n",
            "0.01\n",
            "[99.83996904895892, 78.57142857142857, 88.56957150570345, 57.89473684210527, 99.96302426312639, 45.83333333333333, 93.83534505529842, 63.40510573720669]\n"
          ]
        }
      ]
    },
    {
      "cell_type": "code",
      "source": [
        "# pipe_log_l5 = imbpipeline(steps = [('ros', SMOTETomek(random_state=RANDOM_SEED)),\n",
        "#                                    ('scaler', StandardScaler()),\n",
        "#                                    ('logistic',LogisticRegression(penalty = 'l2', class_weight='none', random_state = RANDOM_SEED, max_iter = 1000,\n",
        "#                                                                   solver='lbfgs',n_jobs=-1))]) \n",
        "\n",
        "# stratified_kfold = StratifiedKFold(n_splits=5,\n",
        "#                                    shuffle=True,\n",
        "#                                    random_state=RANDOM_SEED)\n",
        "    \n",
        "# param_grid = {'logistic__C':[0.01, 0.1, 1, 10, 100]}\n",
        "# grid_search = GridSearchCV(estimator=pipe_log_l5,\n",
        "#                            param_grid=param_grid,\n",
        "#                            scoring='average_precision',\n",
        "#                            cv=stratified_kfold)\n",
        "\n",
        "# grid_search.fit(X_train, y_train)\n",
        "# pprint(grid_search.cv_results_)\n",
        "# print(grid_search.best_params_)"
      ],
      "metadata": {
        "id": "NkbUoJucM_W3"
      },
      "execution_count": null,
      "outputs": []
    },
    {
      "cell_type": "code",
      "source": [
        "# sm = SMOTE(random_state = RANDOM_SEED, k_neighbors= NearestNeighbors(n_neighbors=5, algorithm=\"kd_tree\"))\n",
        "# pipe = imbpipeline(steps = [('ros', SMOTEENN(random_state=RANDOM_SEED)),\n",
        "#                                    ('scaler', StandardScaler()),\n",
        "#                                    ('logistic',LogisticRegression(penalty = 'l2', class_weight='none', random_state = RANDOM_SEED, max_iter = 1000,\n",
        "#                                                                   solver='lbfgs',n_jobs=-1, C = 1))]) \n",
        "\n",
        "# pipe.fit(X_train, y_train)\n",
        "# predictions = pipe.predict(X_test)\n",
        "# t0, f1, f0, t1 = metrics.confusion_matrix(y_test, predictions).ravel()\n",
        "# acc0 = t0/(t0 + f1)\n",
        "# acc1 = t1/(t1 + f0)\n",
        "# g_mean = sqrt(acc0*acc1)\n",
        "# prec0 = t0/(t0 + f0)\n",
        "# prec1 = t1/(t1 + f1)\n",
        "# f_sc = 2*prec1*acc1/(prec1+acc1)\n",
        "# auc = roc_auc_score(y_test, pipe.predict_proba(X_test)[:,1])\n",
        "# auc_pr = average_precision_score(y_test, pipe.predict_proba(X_test)[:,1])\n",
        "# print([100*acc0, 100*acc1, 100*g_mean, 100*f_sc, 100*prec0, 100*prec1, 100*auc, 100*auc_pr])"
      ],
      "metadata": {
        "id": "--6I8b1K1PsO"
      },
      "execution_count": 109,
      "outputs": []
    },
    {
      "cell_type": "markdown",
      "source": [
        "## SVM (l2 reg)"
      ],
      "metadata": {
        "id": "1w0VWbClZoxw"
      }
    },
    {
      "cell_type": "code",
      "source": [
        "from sklearn.preprocessing import RobustScaler\n",
        "\n",
        "# methods = [RandomOverSampler(random_state = RANDOM_SEED), SMOTE(random_state = RANDOM_SEED),\n",
        "#            ADASYN(random_state = RANDOM_SEED), BorderlineSMOTE(random_state = RANDOM_SEED),\n",
        "#            SVMSMOTE(random_state = RANDOM_SEED), RandomUnderSampler(random_state = RANDOM_SEED)]\n",
        "\n",
        "# Cvalues = []\n",
        "# for method in methods:\n",
        "#   pipe_log_ = imbpipeline(steps = [('method', method),\n",
        "#                                    ('scaler', RobustScaler()),\n",
        "#                                    ('svm',LinearSVC(penalty = 'l2', class_weight='balanced', random_state = RANDOM_SEED, max_iter = 1000))])\n",
        "#   stratified_kfold = StratifiedKFold(n_splits=5,\n",
        "#                                    shuffle=True,\n",
        "#                                    random_state=RANDOM_SEED)\n",
        "    \n",
        "#   param_grid = {'svm__C':[0.01, 0.1, 1, 10, 100]}\n",
        "#   grid_search = GridSearchCV(estimator=pipe_log_,\n",
        "#                            param_grid=param_grid,\n",
        "#                            scoring='average_precision',\n",
        "#                            cv=stratified_kfold)\n",
        "\n",
        "#   grid_search.fit(X_train, y_train)\n",
        "#   print(method)\n",
        "#   c = grid_search.best_params_['svm__C']\n",
        "#   Cvalues.append(c)\n",
        "#   pipe = imbpipeline(steps = [('method', method),\n",
        "#                               ('scaler', RobustScaler()),\n",
        "#                               ('logistic',LinearSVC(penalty = 'l2', class_weight='balanced', random_state = RANDOM_SEED, max_iter = 1000,\n",
        "#                                                     C = c))]) \n",
        "\n",
        "#   pipe.fit(X_train, y_train)\n",
        "#   predictions = pipe.predict(X_test)\n",
        "#   t0, f1, f0, t1 = metrics.confusion_matrix(y_test, predictions).ravel()\n",
        "#   acc0 = t0/(t0 + f1)\n",
        "#   acc1 = t1/(t1 + f0)\n",
        "#   g_mean = sqrt(acc0*acc1)\n",
        "#   prec0 = t0/(t0 + f0)\n",
        "#   prec1 = t1/(t1 + f1)\n",
        "#   f_sc = 2*prec1*acc1/(prec1+acc1)\n",
        "#   auc = roc_auc_score(y_test, pipe.predict_proba(X_test)[:,1])\n",
        "#   auc_pr = average_precision_score(y_test, pipe.predict_proba(X_test)[:,1])\n",
        "#   print(c)\n",
        "#   print([100*acc0, 100*acc1, 100*g_mean, 100*f_sc, 100*prec0, 100*prec1, 100*auc, 100*auc_pr])"
      ],
      "metadata": {
        "colab": {
          "base_uri": "https://localhost:8080/"
        },
        "id": "uJERUKiB1PvM",
        "outputId": "30463212-af21-4e15-f5dd-517669a90157"
      },
      "execution_count": null,
      "outputs": [
        {
          "output_type": "stream",
          "name": "stderr",
          "text": [
            "/usr/local/lib/python3.8/dist-packages/sklearn/svm/_base.py:1206: ConvergenceWarning: Liblinear failed to converge, increase the number of iterations.\n",
            "  warnings.warn(\n"
          ]
        }
      ]
    },
    {
      "cell_type": "code",
      "source": [],
      "metadata": {
        "id": "Woauc0yU3wiE"
      },
      "execution_count": null,
      "outputs": []
    },
    {
      "cell_type": "code",
      "source": [],
      "metadata": {
        "id": "Q5rJI5Cx3wkh"
      },
      "execution_count": null,
      "outputs": []
    },
    {
      "cell_type": "code",
      "source": [],
      "metadata": {
        "id": "kpuwMiWe3wt8"
      },
      "execution_count": null,
      "outputs": []
    },
    {
      "cell_type": "code",
      "source": [],
      "metadata": {
        "id": "0NOOT6Hj3wwi"
      },
      "execution_count": null,
      "outputs": []
    },
    {
      "cell_type": "code",
      "source": [],
      "metadata": {
        "id": "BoORgaEV3wy4"
      },
      "execution_count": null,
      "outputs": []
    },
    {
      "cell_type": "code",
      "source": [],
      "metadata": {
        "id": "lFdMMUJ23w1m"
      },
      "execution_count": null,
      "outputs": []
    },
    {
      "cell_type": "code",
      "source": [],
      "metadata": {
        "id": "nGFWFavJ1Pxf"
      },
      "execution_count": null,
      "outputs": []
    },
    {
      "cell_type": "code",
      "source": [],
      "metadata": {
        "id": "5dosH2s81Pz5"
      },
      "execution_count": null,
      "outputs": []
    },
    {
      "cell_type": "code",
      "source": [],
      "metadata": {
        "id": "oYhKW1mO1P27"
      },
      "execution_count": null,
      "outputs": []
    },
    {
      "cell_type": "code",
      "source": [],
      "metadata": {
        "id": "eP77m_PN1P5y"
      },
      "execution_count": null,
      "outputs": []
    },
    {
      "cell_type": "code",
      "source": [],
      "metadata": {
        "id": "uAMd9v_O1QAw"
      },
      "execution_count": null,
      "outputs": []
    },
    {
      "cell_type": "code",
      "source": [],
      "metadata": {
        "id": "F0eoG74d1QEM"
      },
      "execution_count": null,
      "outputs": []
    },
    {
      "cell_type": "code",
      "source": [],
      "metadata": {
        "id": "sMsXlbs_1QGf"
      },
      "execution_count": null,
      "outputs": []
    },
    {
      "cell_type": "code",
      "source": [],
      "metadata": {
        "id": "pJ2kbtbP1QMc"
      },
      "execution_count": null,
      "outputs": []
    },
    {
      "cell_type": "code",
      "source": [],
      "metadata": {
        "id": "RGux3e-l1QO4"
      },
      "execution_count": null,
      "outputs": []
    },
    {
      "cell_type": "code",
      "execution_count": 8,
      "metadata": {
        "id": "Sluah2CA5CbO"
      },
      "outputs": [],
      "source": [
        "pipe_rf_SMOTE = Pipeline(steps = [('smote', SMOTE(random_state = RANDOM_SEED)),\n",
        "                                  ('rf', RandomForestClassifier(random_state = RANDOM_SEED))])"
      ]
    },
    {
      "cell_type": "markdown",
      "metadata": {
        "id": "_nvsxZlG-YgM"
      },
      "source": [
        "## Random Search with Cross Validation"
      ]
    },
    {
      "cell_type": "code",
      "execution_count": 9,
      "metadata": {
        "colab": {
          "base_uri": "https://localhost:8080/"
        },
        "id": "nqeZTkQs-cIZ",
        "outputId": "54091cb4-906d-4808-8b69-fb0b1a8c50eb"
      },
      "outputs": [
        {
          "output_type": "stream",
          "name": "stdout",
          "text": [
            "{'rf__bootstrap': [True],\n",
            " 'rf__max_depth': [5],\n",
            " 'rf__max_features': ['sqrt'],\n",
            " 'rf__n_estimators': [50, 100, 150, 200]}\n"
          ]
        }
      ],
      "source": [
        "from sklearn.model_selection import RandomizedSearchCV\n",
        "\n",
        "# Number of trees in random forest\n",
        "#n_estimators = [10, 20, 30]\n",
        "n_estimators = [50, 100, 150, 200]\n",
        "# Number of features to consider at every split\n",
        "#max_features = ['auto','sqrt']\n",
        "max_features = ['sqrt']\n",
        "# Maximum number of levels in tree\n",
        "#max_depth = [4, 5, 6]\n",
        "max_depth = [5]\n",
        "#max_depth.append(None)\n",
        "# Minimum number of samples required to split a node\n",
        "#min_samples_split = [2, 4, 6]\n",
        "#min_samples_split = [2, 5]\n",
        "# Minimum number of samples required at each leaf node\n",
        "#min_samples_leaf = [2, 4, 6]\n",
        "#min_samples_leaf = [2, 5]\n",
        "# Method of selecting samples for training each tree\n",
        "bootstrap = [True]\n",
        "\n",
        "# Create the random grid\n",
        "random_grid = {'rf__n_estimators': n_estimators,\n",
        "               'rf__max_features': max_features,\n",
        "               'rf__max_depth': max_depth,\n",
        "#               'rf__min_samples_split': min_samples_split,\n",
        "#               'rf__min_samples_leaf': min_samples_leaf,\n",
        "               'rf__bootstrap': bootstrap}\n",
        "            \n",
        "\n",
        "pprint(random_grid)"
      ]
    },
    {
      "cell_type": "code",
      "source": [
        "pipe_rf = Pipeline(steps = [('rf',RandomForestClassifier(random_state = RANDOM_SEED,\n",
        "                                                         max_depth = 5,\n",
        "                                                         max_features = 'sqrt',\n",
        "                                                         bootstrap = True,\n",
        "                                                         n_jobs = -1))]) \n",
        "\n",
        "stratified_kfold = StratifiedKFold(n_splits=5,\n",
        "                                   shuffle=True,\n",
        "                                   random_state=RANDOM_SEED)\n",
        "    \n",
        "param_grid = {'rf__n_estimators':[50, 100, 150, 200]}\n",
        "\n",
        "grid_search = GridSearchCV(estimator=pipe_rf,\n",
        "                           param_grid=param_grid,\n",
        "                           scoring='average_precision',\n",
        "                           cv=stratified_kfold)\n",
        "\n",
        "grid_search.fit(X_train, y_train)\n",
        "pprint(grid_search.cv_results_)\n",
        "print(grid_search.best_params_)"
      ],
      "metadata": {
        "colab": {
          "base_uri": "https://localhost:8080/",
          "height": 381
        },
        "id": "3uEbcE3E-zeD",
        "outputId": "9990c666-2336-475a-9801-20ea5104c140"
      },
      "execution_count": 21,
      "outputs": [
        {
          "output_type": "error",
          "ename": "KeyboardInterrupt",
          "evalue": "ignored",
          "traceback": [
            "\u001b[0;31m---------------------------------------------------------------------------\u001b[0m",
            "\u001b[0;31mKeyboardInterrupt\u001b[0m                         Traceback (most recent call last)",
            "\u001b[0;32m<ipython-input-21-e569549ab3c1>\u001b[0m in \u001b[0;36m<module>\u001b[0;34m\u001b[0m\n\u001b[1;32m     16\u001b[0m                            cv=stratified_kfold)\n\u001b[1;32m     17\u001b[0m \u001b[0;34m\u001b[0m\u001b[0m\n\u001b[0;32m---> 18\u001b[0;31m \u001b[0mgrid_search\u001b[0m\u001b[0;34m.\u001b[0m\u001b[0mfit\u001b[0m\u001b[0;34m(\u001b[0m\u001b[0mX_train\u001b[0m\u001b[0;34m,\u001b[0m \u001b[0my_train\u001b[0m\u001b[0;34m)\u001b[0m\u001b[0;34m\u001b[0m\u001b[0;34m\u001b[0m\u001b[0m\n\u001b[0m\u001b[1;32m     19\u001b[0m \u001b[0mpprint\u001b[0m\u001b[0;34m(\u001b[0m\u001b[0mgrid_search\u001b[0m\u001b[0;34m.\u001b[0m\u001b[0mcv_results_\u001b[0m\u001b[0;34m)\u001b[0m\u001b[0;34m\u001b[0m\u001b[0;34m\u001b[0m\u001b[0m\n\u001b[1;32m     20\u001b[0m \u001b[0mprint\u001b[0m\u001b[0;34m(\u001b[0m\u001b[0mgrid_search\u001b[0m\u001b[0;34m.\u001b[0m\u001b[0mbest_params_\u001b[0m\u001b[0;34m)\u001b[0m\u001b[0;34m\u001b[0m\u001b[0;34m\u001b[0m\u001b[0m\n",
            "\u001b[0;32m/usr/local/lib/python3.8/dist-packages/sklearn/model_selection/_search.py\u001b[0m in \u001b[0;36mfit\u001b[0;34m(self, X, y, groups, **fit_params)\u001b[0m\n\u001b[1;32m    889\u001b[0m                 \u001b[0;32mreturn\u001b[0m \u001b[0mresults\u001b[0m\u001b[0;34m\u001b[0m\u001b[0;34m\u001b[0m\u001b[0m\n\u001b[1;32m    890\u001b[0m \u001b[0;34m\u001b[0m\u001b[0m\n\u001b[0;32m--> 891\u001b[0;31m             \u001b[0mself\u001b[0m\u001b[0;34m.\u001b[0m\u001b[0m_run_search\u001b[0m\u001b[0;34m(\u001b[0m\u001b[0mevaluate_candidates\u001b[0m\u001b[0;34m)\u001b[0m\u001b[0;34m\u001b[0m\u001b[0;34m\u001b[0m\u001b[0m\n\u001b[0m\u001b[1;32m    892\u001b[0m \u001b[0;34m\u001b[0m\u001b[0m\n\u001b[1;32m    893\u001b[0m             \u001b[0;31m# multimetric is determined here because in the case of a callable\u001b[0m\u001b[0;34m\u001b[0m\u001b[0;34m\u001b[0m\u001b[0;34m\u001b[0m\u001b[0m\n",
            "\u001b[0;32m/usr/local/lib/python3.8/dist-packages/sklearn/model_selection/_search.py\u001b[0m in \u001b[0;36m_run_search\u001b[0;34m(self, evaluate_candidates)\u001b[0m\n\u001b[1;32m   1390\u001b[0m     \u001b[0;32mdef\u001b[0m \u001b[0m_run_search\u001b[0m\u001b[0;34m(\u001b[0m\u001b[0mself\u001b[0m\u001b[0;34m,\u001b[0m \u001b[0mevaluate_candidates\u001b[0m\u001b[0;34m)\u001b[0m\u001b[0;34m:\u001b[0m\u001b[0;34m\u001b[0m\u001b[0;34m\u001b[0m\u001b[0m\n\u001b[1;32m   1391\u001b[0m         \u001b[0;34m\"\"\"Search all candidates in param_grid\"\"\"\u001b[0m\u001b[0;34m\u001b[0m\u001b[0;34m\u001b[0m\u001b[0m\n\u001b[0;32m-> 1392\u001b[0;31m         \u001b[0mevaluate_candidates\u001b[0m\u001b[0;34m(\u001b[0m\u001b[0mParameterGrid\u001b[0m\u001b[0;34m(\u001b[0m\u001b[0mself\u001b[0m\u001b[0;34m.\u001b[0m\u001b[0mparam_grid\u001b[0m\u001b[0;34m)\u001b[0m\u001b[0;34m)\u001b[0m\u001b[0;34m\u001b[0m\u001b[0;34m\u001b[0m\u001b[0m\n\u001b[0m\u001b[1;32m   1393\u001b[0m \u001b[0;34m\u001b[0m\u001b[0m\n\u001b[1;32m   1394\u001b[0m \u001b[0;34m\u001b[0m\u001b[0m\n",
            "\u001b[0;32m/usr/local/lib/python3.8/dist-packages/sklearn/model_selection/_search.py\u001b[0m in \u001b[0;36mevaluate_candidates\u001b[0;34m(candidate_params, cv, more_results)\u001b[0m\n\u001b[1;32m    836\u001b[0m                     )\n\u001b[1;32m    837\u001b[0m \u001b[0;34m\u001b[0m\u001b[0m\n\u001b[0;32m--> 838\u001b[0;31m                 out = parallel(\n\u001b[0m\u001b[1;32m    839\u001b[0m                     delayed(_fit_and_score)(\n\u001b[1;32m    840\u001b[0m                         \u001b[0mclone\u001b[0m\u001b[0;34m(\u001b[0m\u001b[0mbase_estimator\u001b[0m\u001b[0;34m)\u001b[0m\u001b[0;34m,\u001b[0m\u001b[0;34m\u001b[0m\u001b[0;34m\u001b[0m\u001b[0m\n",
            "\u001b[0;32m/usr/local/lib/python3.8/dist-packages/joblib/parallel.py\u001b[0m in \u001b[0;36m__call__\u001b[0;34m(self, iterable)\u001b[0m\n\u001b[1;32m   1086\u001b[0m                 \u001b[0mself\u001b[0m\u001b[0;34m.\u001b[0m\u001b[0m_iterating\u001b[0m \u001b[0;34m=\u001b[0m \u001b[0mself\u001b[0m\u001b[0;34m.\u001b[0m\u001b[0m_original_iterator\u001b[0m \u001b[0;32mis\u001b[0m \u001b[0;32mnot\u001b[0m \u001b[0;32mNone\u001b[0m\u001b[0;34m\u001b[0m\u001b[0;34m\u001b[0m\u001b[0m\n\u001b[1;32m   1087\u001b[0m \u001b[0;34m\u001b[0m\u001b[0m\n\u001b[0;32m-> 1088\u001b[0;31m             \u001b[0;32mwhile\u001b[0m \u001b[0mself\u001b[0m\u001b[0;34m.\u001b[0m\u001b[0mdispatch_one_batch\u001b[0m\u001b[0;34m(\u001b[0m\u001b[0miterator\u001b[0m\u001b[0;34m)\u001b[0m\u001b[0;34m:\u001b[0m\u001b[0;34m\u001b[0m\u001b[0;34m\u001b[0m\u001b[0m\n\u001b[0m\u001b[1;32m   1089\u001b[0m                 \u001b[0;32mpass\u001b[0m\u001b[0;34m\u001b[0m\u001b[0;34m\u001b[0m\u001b[0m\n\u001b[1;32m   1090\u001b[0m \u001b[0;34m\u001b[0m\u001b[0m\n",
            "\u001b[0;32m/usr/local/lib/python3.8/dist-packages/joblib/parallel.py\u001b[0m in \u001b[0;36mdispatch_one_batch\u001b[0;34m(self, iterator)\u001b[0m\n\u001b[1;32m    899\u001b[0m                 \u001b[0;32mreturn\u001b[0m \u001b[0;32mFalse\u001b[0m\u001b[0;34m\u001b[0m\u001b[0;34m\u001b[0m\u001b[0m\n\u001b[1;32m    900\u001b[0m             \u001b[0;32melse\u001b[0m\u001b[0;34m:\u001b[0m\u001b[0;34m\u001b[0m\u001b[0;34m\u001b[0m\u001b[0m\n\u001b[0;32m--> 901\u001b[0;31m                 \u001b[0mself\u001b[0m\u001b[0;34m.\u001b[0m\u001b[0m_dispatch\u001b[0m\u001b[0;34m(\u001b[0m\u001b[0mtasks\u001b[0m\u001b[0;34m)\u001b[0m\u001b[0;34m\u001b[0m\u001b[0;34m\u001b[0m\u001b[0m\n\u001b[0m\u001b[1;32m    902\u001b[0m                 \u001b[0;32mreturn\u001b[0m \u001b[0;32mTrue\u001b[0m\u001b[0;34m\u001b[0m\u001b[0;34m\u001b[0m\u001b[0m\n\u001b[1;32m    903\u001b[0m \u001b[0;34m\u001b[0m\u001b[0m\n",
            "\u001b[0;32m/usr/local/lib/python3.8/dist-packages/joblib/parallel.py\u001b[0m in \u001b[0;36m_dispatch\u001b[0;34m(self, batch)\u001b[0m\n\u001b[1;32m    817\u001b[0m         \u001b[0;32mwith\u001b[0m \u001b[0mself\u001b[0m\u001b[0;34m.\u001b[0m\u001b[0m_lock\u001b[0m\u001b[0;34m:\u001b[0m\u001b[0;34m\u001b[0m\u001b[0;34m\u001b[0m\u001b[0m\n\u001b[1;32m    818\u001b[0m             \u001b[0mjob_idx\u001b[0m \u001b[0;34m=\u001b[0m \u001b[0mlen\u001b[0m\u001b[0;34m(\u001b[0m\u001b[0mself\u001b[0m\u001b[0;34m.\u001b[0m\u001b[0m_jobs\u001b[0m\u001b[0;34m)\u001b[0m\u001b[0;34m\u001b[0m\u001b[0;34m\u001b[0m\u001b[0m\n\u001b[0;32m--> 819\u001b[0;31m             \u001b[0mjob\u001b[0m \u001b[0;34m=\u001b[0m \u001b[0mself\u001b[0m\u001b[0;34m.\u001b[0m\u001b[0m_backend\u001b[0m\u001b[0;34m.\u001b[0m\u001b[0mapply_async\u001b[0m\u001b[0;34m(\u001b[0m\u001b[0mbatch\u001b[0m\u001b[0;34m,\u001b[0m \u001b[0mcallback\u001b[0m\u001b[0;34m=\u001b[0m\u001b[0mcb\u001b[0m\u001b[0;34m)\u001b[0m\u001b[0;34m\u001b[0m\u001b[0;34m\u001b[0m\u001b[0m\n\u001b[0m\u001b[1;32m    820\u001b[0m             \u001b[0;31m# A job can complete so quickly than its callback is\u001b[0m\u001b[0;34m\u001b[0m\u001b[0;34m\u001b[0m\u001b[0;34m\u001b[0m\u001b[0m\n\u001b[1;32m    821\u001b[0m             \u001b[0;31m# called before we get here, causing self._jobs to\u001b[0m\u001b[0;34m\u001b[0m\u001b[0;34m\u001b[0m\u001b[0;34m\u001b[0m\u001b[0m\n",
            "\u001b[0;32m/usr/local/lib/python3.8/dist-packages/joblib/_parallel_backends.py\u001b[0m in \u001b[0;36mapply_async\u001b[0;34m(self, func, callback)\u001b[0m\n\u001b[1;32m    206\u001b[0m     \u001b[0;32mdef\u001b[0m \u001b[0mapply_async\u001b[0m\u001b[0;34m(\u001b[0m\u001b[0mself\u001b[0m\u001b[0;34m,\u001b[0m \u001b[0mfunc\u001b[0m\u001b[0;34m,\u001b[0m \u001b[0mcallback\u001b[0m\u001b[0;34m=\u001b[0m\u001b[0;32mNone\u001b[0m\u001b[0;34m)\u001b[0m\u001b[0;34m:\u001b[0m\u001b[0;34m\u001b[0m\u001b[0;34m\u001b[0m\u001b[0m\n\u001b[1;32m    207\u001b[0m         \u001b[0;34m\"\"\"Schedule a func to be run\"\"\"\u001b[0m\u001b[0;34m\u001b[0m\u001b[0;34m\u001b[0m\u001b[0m\n\u001b[0;32m--> 208\u001b[0;31m         \u001b[0mresult\u001b[0m \u001b[0;34m=\u001b[0m \u001b[0mImmediateResult\u001b[0m\u001b[0;34m(\u001b[0m\u001b[0mfunc\u001b[0m\u001b[0;34m)\u001b[0m\u001b[0;34m\u001b[0m\u001b[0;34m\u001b[0m\u001b[0m\n\u001b[0m\u001b[1;32m    209\u001b[0m         \u001b[0;32mif\u001b[0m \u001b[0mcallback\u001b[0m\u001b[0;34m:\u001b[0m\u001b[0;34m\u001b[0m\u001b[0;34m\u001b[0m\u001b[0m\n\u001b[1;32m    210\u001b[0m             \u001b[0mcallback\u001b[0m\u001b[0;34m(\u001b[0m\u001b[0mresult\u001b[0m\u001b[0;34m)\u001b[0m\u001b[0;34m\u001b[0m\u001b[0;34m\u001b[0m\u001b[0m\n",
            "\u001b[0;32m/usr/local/lib/python3.8/dist-packages/joblib/_parallel_backends.py\u001b[0m in \u001b[0;36m__init__\u001b[0;34m(self, batch)\u001b[0m\n\u001b[1;32m    595\u001b[0m         \u001b[0;31m# Don't delay the application, to avoid keeping the input\u001b[0m\u001b[0;34m\u001b[0m\u001b[0;34m\u001b[0m\u001b[0;34m\u001b[0m\u001b[0m\n\u001b[1;32m    596\u001b[0m         \u001b[0;31m# arguments in memory\u001b[0m\u001b[0;34m\u001b[0m\u001b[0;34m\u001b[0m\u001b[0;34m\u001b[0m\u001b[0m\n\u001b[0;32m--> 597\u001b[0;31m         \u001b[0mself\u001b[0m\u001b[0;34m.\u001b[0m\u001b[0mresults\u001b[0m \u001b[0;34m=\u001b[0m \u001b[0mbatch\u001b[0m\u001b[0;34m(\u001b[0m\u001b[0;34m)\u001b[0m\u001b[0;34m\u001b[0m\u001b[0;34m\u001b[0m\u001b[0m\n\u001b[0m\u001b[1;32m    598\u001b[0m \u001b[0;34m\u001b[0m\u001b[0m\n\u001b[1;32m    599\u001b[0m     \u001b[0;32mdef\u001b[0m \u001b[0mget\u001b[0m\u001b[0;34m(\u001b[0m\u001b[0mself\u001b[0m\u001b[0;34m)\u001b[0m\u001b[0;34m:\u001b[0m\u001b[0;34m\u001b[0m\u001b[0;34m\u001b[0m\u001b[0m\n",
            "\u001b[0;32m/usr/local/lib/python3.8/dist-packages/joblib/parallel.py\u001b[0m in \u001b[0;36m__call__\u001b[0;34m(self)\u001b[0m\n\u001b[1;32m    286\u001b[0m         \u001b[0;31m# change the default number of processes to -1\u001b[0m\u001b[0;34m\u001b[0m\u001b[0;34m\u001b[0m\u001b[0;34m\u001b[0m\u001b[0m\n\u001b[1;32m    287\u001b[0m         \u001b[0;32mwith\u001b[0m \u001b[0mparallel_backend\u001b[0m\u001b[0;34m(\u001b[0m\u001b[0mself\u001b[0m\u001b[0;34m.\u001b[0m\u001b[0m_backend\u001b[0m\u001b[0;34m,\u001b[0m \u001b[0mn_jobs\u001b[0m\u001b[0;34m=\u001b[0m\u001b[0mself\u001b[0m\u001b[0;34m.\u001b[0m\u001b[0m_n_jobs\u001b[0m\u001b[0;34m)\u001b[0m\u001b[0;34m:\u001b[0m\u001b[0;34m\u001b[0m\u001b[0;34m\u001b[0m\u001b[0m\n\u001b[0;32m--> 288\u001b[0;31m             return [func(*args, **kwargs)\n\u001b[0m\u001b[1;32m    289\u001b[0m                     for func, args, kwargs in self.items]\n\u001b[1;32m    290\u001b[0m \u001b[0;34m\u001b[0m\u001b[0m\n",
            "\u001b[0;32m/usr/local/lib/python3.8/dist-packages/joblib/parallel.py\u001b[0m in \u001b[0;36m<listcomp>\u001b[0;34m(.0)\u001b[0m\n\u001b[1;32m    286\u001b[0m         \u001b[0;31m# change the default number of processes to -1\u001b[0m\u001b[0;34m\u001b[0m\u001b[0;34m\u001b[0m\u001b[0;34m\u001b[0m\u001b[0m\n\u001b[1;32m    287\u001b[0m         \u001b[0;32mwith\u001b[0m \u001b[0mparallel_backend\u001b[0m\u001b[0;34m(\u001b[0m\u001b[0mself\u001b[0m\u001b[0;34m.\u001b[0m\u001b[0m_backend\u001b[0m\u001b[0;34m,\u001b[0m \u001b[0mn_jobs\u001b[0m\u001b[0;34m=\u001b[0m\u001b[0mself\u001b[0m\u001b[0;34m.\u001b[0m\u001b[0m_n_jobs\u001b[0m\u001b[0;34m)\u001b[0m\u001b[0;34m:\u001b[0m\u001b[0;34m\u001b[0m\u001b[0;34m\u001b[0m\u001b[0m\n\u001b[0;32m--> 288\u001b[0;31m             return [func(*args, **kwargs)\n\u001b[0m\u001b[1;32m    289\u001b[0m                     for func, args, kwargs in self.items]\n\u001b[1;32m    290\u001b[0m \u001b[0;34m\u001b[0m\u001b[0m\n",
            "\u001b[0;32m/usr/local/lib/python3.8/dist-packages/sklearn/utils/fixes.py\u001b[0m in \u001b[0;36m__call__\u001b[0;34m(self, *args, **kwargs)\u001b[0m\n\u001b[1;32m    214\u001b[0m     \u001b[0;32mdef\u001b[0m \u001b[0m__call__\u001b[0m\u001b[0;34m(\u001b[0m\u001b[0mself\u001b[0m\u001b[0;34m,\u001b[0m \u001b[0;34m*\u001b[0m\u001b[0margs\u001b[0m\u001b[0;34m,\u001b[0m \u001b[0;34m**\u001b[0m\u001b[0mkwargs\u001b[0m\u001b[0;34m)\u001b[0m\u001b[0;34m:\u001b[0m\u001b[0;34m\u001b[0m\u001b[0;34m\u001b[0m\u001b[0m\n\u001b[1;32m    215\u001b[0m         \u001b[0;32mwith\u001b[0m \u001b[0mconfig_context\u001b[0m\u001b[0;34m(\u001b[0m\u001b[0;34m**\u001b[0m\u001b[0mself\u001b[0m\u001b[0;34m.\u001b[0m\u001b[0mconfig\u001b[0m\u001b[0;34m)\u001b[0m\u001b[0;34m:\u001b[0m\u001b[0;34m\u001b[0m\u001b[0;34m\u001b[0m\u001b[0m\n\u001b[0;32m--> 216\u001b[0;31m             \u001b[0;32mreturn\u001b[0m \u001b[0mself\u001b[0m\u001b[0;34m.\u001b[0m\u001b[0mfunction\u001b[0m\u001b[0;34m(\u001b[0m\u001b[0;34m*\u001b[0m\u001b[0margs\u001b[0m\u001b[0;34m,\u001b[0m \u001b[0;34m**\u001b[0m\u001b[0mkwargs\u001b[0m\u001b[0;34m)\u001b[0m\u001b[0;34m\u001b[0m\u001b[0;34m\u001b[0m\u001b[0m\n\u001b[0m\u001b[1;32m    217\u001b[0m \u001b[0;34m\u001b[0m\u001b[0m\n\u001b[1;32m    218\u001b[0m \u001b[0;34m\u001b[0m\u001b[0m\n",
            "\u001b[0;32m/usr/local/lib/python3.8/dist-packages/sklearn/model_selection/_validation.py\u001b[0m in \u001b[0;36m_fit_and_score\u001b[0;34m(estimator, X, y, scorer, train, test, verbose, parameters, fit_params, return_train_score, return_parameters, return_n_test_samples, return_times, return_estimator, split_progress, candidate_progress, error_score)\u001b[0m\n\u001b[1;32m    678\u001b[0m             \u001b[0mestimator\u001b[0m\u001b[0;34m.\u001b[0m\u001b[0mfit\u001b[0m\u001b[0;34m(\u001b[0m\u001b[0mX_train\u001b[0m\u001b[0;34m,\u001b[0m \u001b[0;34m**\u001b[0m\u001b[0mfit_params\u001b[0m\u001b[0;34m)\u001b[0m\u001b[0;34m\u001b[0m\u001b[0;34m\u001b[0m\u001b[0m\n\u001b[1;32m    679\u001b[0m         \u001b[0;32melse\u001b[0m\u001b[0;34m:\u001b[0m\u001b[0;34m\u001b[0m\u001b[0;34m\u001b[0m\u001b[0m\n\u001b[0;32m--> 680\u001b[0;31m             \u001b[0mestimator\u001b[0m\u001b[0;34m.\u001b[0m\u001b[0mfit\u001b[0m\u001b[0;34m(\u001b[0m\u001b[0mX_train\u001b[0m\u001b[0;34m,\u001b[0m \u001b[0my_train\u001b[0m\u001b[0;34m,\u001b[0m \u001b[0;34m**\u001b[0m\u001b[0mfit_params\u001b[0m\u001b[0;34m)\u001b[0m\u001b[0;34m\u001b[0m\u001b[0;34m\u001b[0m\u001b[0m\n\u001b[0m\u001b[1;32m    681\u001b[0m \u001b[0;34m\u001b[0m\u001b[0m\n\u001b[1;32m    682\u001b[0m     \u001b[0;32mexcept\u001b[0m \u001b[0mException\u001b[0m\u001b[0;34m:\u001b[0m\u001b[0;34m\u001b[0m\u001b[0;34m\u001b[0m\u001b[0m\n",
            "\u001b[0;32m/usr/local/lib/python3.8/dist-packages/imblearn/pipeline.py\u001b[0m in \u001b[0;36mfit\u001b[0;34m(self, X, y, **fit_params)\u001b[0m\n\u001b[1;32m    264\u001b[0m             \u001b[0;32mif\u001b[0m \u001b[0mself\u001b[0m\u001b[0;34m.\u001b[0m\u001b[0m_final_estimator\u001b[0m \u001b[0;34m!=\u001b[0m \u001b[0;34m\"passthrough\"\u001b[0m\u001b[0;34m:\u001b[0m\u001b[0;34m\u001b[0m\u001b[0;34m\u001b[0m\u001b[0m\n\u001b[1;32m    265\u001b[0m                 \u001b[0mfit_params_last_step\u001b[0m \u001b[0;34m=\u001b[0m \u001b[0mfit_params_steps\u001b[0m\u001b[0;34m[\u001b[0m\u001b[0mself\u001b[0m\u001b[0;34m.\u001b[0m\u001b[0msteps\u001b[0m\u001b[0;34m[\u001b[0m\u001b[0;34m-\u001b[0m\u001b[0;36m1\u001b[0m\u001b[0;34m]\u001b[0m\u001b[0;34m[\u001b[0m\u001b[0;36m0\u001b[0m\u001b[0;34m]\u001b[0m\u001b[0;34m]\u001b[0m\u001b[0;34m\u001b[0m\u001b[0;34m\u001b[0m\u001b[0m\n\u001b[0;32m--> 266\u001b[0;31m                 \u001b[0mself\u001b[0m\u001b[0;34m.\u001b[0m\u001b[0m_final_estimator\u001b[0m\u001b[0;34m.\u001b[0m\u001b[0mfit\u001b[0m\u001b[0;34m(\u001b[0m\u001b[0mXt\u001b[0m\u001b[0;34m,\u001b[0m \u001b[0myt\u001b[0m\u001b[0;34m,\u001b[0m \u001b[0;34m**\u001b[0m\u001b[0mfit_params_last_step\u001b[0m\u001b[0;34m)\u001b[0m\u001b[0;34m\u001b[0m\u001b[0;34m\u001b[0m\u001b[0m\n\u001b[0m\u001b[1;32m    267\u001b[0m         \u001b[0;32mreturn\u001b[0m \u001b[0mself\u001b[0m\u001b[0;34m\u001b[0m\u001b[0;34m\u001b[0m\u001b[0m\n\u001b[1;32m    268\u001b[0m \u001b[0;34m\u001b[0m\u001b[0m\n",
            "\u001b[0;32m/usr/local/lib/python3.8/dist-packages/sklearn/ensemble/_forest.py\u001b[0m in \u001b[0;36mfit\u001b[0;34m(self, X, y, sample_weight)\u001b[0m\n\u001b[1;32m    448\u001b[0m             \u001b[0;31m# parallel_backend contexts set at a higher level,\u001b[0m\u001b[0;34m\u001b[0m\u001b[0;34m\u001b[0m\u001b[0;34m\u001b[0m\u001b[0m\n\u001b[1;32m    449\u001b[0m             \u001b[0;31m# since correctness does not rely on using threads.\u001b[0m\u001b[0;34m\u001b[0m\u001b[0;34m\u001b[0m\u001b[0;34m\u001b[0m\u001b[0m\n\u001b[0;32m--> 450\u001b[0;31m             trees = Parallel(\n\u001b[0m\u001b[1;32m    451\u001b[0m                 \u001b[0mn_jobs\u001b[0m\u001b[0;34m=\u001b[0m\u001b[0mself\u001b[0m\u001b[0;34m.\u001b[0m\u001b[0mn_jobs\u001b[0m\u001b[0;34m,\u001b[0m\u001b[0;34m\u001b[0m\u001b[0;34m\u001b[0m\u001b[0m\n\u001b[1;32m    452\u001b[0m                 \u001b[0mverbose\u001b[0m\u001b[0;34m=\u001b[0m\u001b[0mself\u001b[0m\u001b[0;34m.\u001b[0m\u001b[0mverbose\u001b[0m\u001b[0;34m,\u001b[0m\u001b[0;34m\u001b[0m\u001b[0;34m\u001b[0m\u001b[0m\n",
            "\u001b[0;32m/usr/local/lib/python3.8/dist-packages/joblib/parallel.py\u001b[0m in \u001b[0;36m__call__\u001b[0;34m(self, iterable)\u001b[0m\n\u001b[1;32m   1096\u001b[0m \u001b[0;34m\u001b[0m\u001b[0m\n\u001b[1;32m   1097\u001b[0m             \u001b[0;32mwith\u001b[0m \u001b[0mself\u001b[0m\u001b[0;34m.\u001b[0m\u001b[0m_backend\u001b[0m\u001b[0;34m.\u001b[0m\u001b[0mretrieval_context\u001b[0m\u001b[0;34m(\u001b[0m\u001b[0;34m)\u001b[0m\u001b[0;34m:\u001b[0m\u001b[0;34m\u001b[0m\u001b[0;34m\u001b[0m\u001b[0m\n\u001b[0;32m-> 1098\u001b[0;31m                 \u001b[0mself\u001b[0m\u001b[0;34m.\u001b[0m\u001b[0mretrieve\u001b[0m\u001b[0;34m(\u001b[0m\u001b[0;34m)\u001b[0m\u001b[0;34m\u001b[0m\u001b[0;34m\u001b[0m\u001b[0m\n\u001b[0m\u001b[1;32m   1099\u001b[0m             \u001b[0;31m# Make sure that we get a last message telling us we are done\u001b[0m\u001b[0;34m\u001b[0m\u001b[0;34m\u001b[0m\u001b[0;34m\u001b[0m\u001b[0m\n\u001b[1;32m   1100\u001b[0m             \u001b[0melapsed_time\u001b[0m \u001b[0;34m=\u001b[0m \u001b[0mtime\u001b[0m\u001b[0;34m.\u001b[0m\u001b[0mtime\u001b[0m\u001b[0;34m(\u001b[0m\u001b[0;34m)\u001b[0m \u001b[0;34m-\u001b[0m \u001b[0mself\u001b[0m\u001b[0;34m.\u001b[0m\u001b[0m_start_time\u001b[0m\u001b[0;34m\u001b[0m\u001b[0;34m\u001b[0m\u001b[0m\n",
            "\u001b[0;32m/usr/local/lib/python3.8/dist-packages/joblib/parallel.py\u001b[0m in \u001b[0;36mretrieve\u001b[0;34m(self)\u001b[0m\n\u001b[1;32m    973\u001b[0m             \u001b[0;32mtry\u001b[0m\u001b[0;34m:\u001b[0m\u001b[0;34m\u001b[0m\u001b[0;34m\u001b[0m\u001b[0m\n\u001b[1;32m    974\u001b[0m                 \u001b[0;32mif\u001b[0m \u001b[0mgetattr\u001b[0m\u001b[0;34m(\u001b[0m\u001b[0mself\u001b[0m\u001b[0;34m.\u001b[0m\u001b[0m_backend\u001b[0m\u001b[0;34m,\u001b[0m \u001b[0;34m'supports_timeout'\u001b[0m\u001b[0;34m,\u001b[0m \u001b[0;32mFalse\u001b[0m\u001b[0;34m)\u001b[0m\u001b[0;34m:\u001b[0m\u001b[0;34m\u001b[0m\u001b[0;34m\u001b[0m\u001b[0m\n\u001b[0;32m--> 975\u001b[0;31m                     \u001b[0mself\u001b[0m\u001b[0;34m.\u001b[0m\u001b[0m_output\u001b[0m\u001b[0;34m.\u001b[0m\u001b[0mextend\u001b[0m\u001b[0;34m(\u001b[0m\u001b[0mjob\u001b[0m\u001b[0;34m.\u001b[0m\u001b[0mget\u001b[0m\u001b[0;34m(\u001b[0m\u001b[0mtimeout\u001b[0m\u001b[0;34m=\u001b[0m\u001b[0mself\u001b[0m\u001b[0;34m.\u001b[0m\u001b[0mtimeout\u001b[0m\u001b[0;34m)\u001b[0m\u001b[0;34m)\u001b[0m\u001b[0;34m\u001b[0m\u001b[0;34m\u001b[0m\u001b[0m\n\u001b[0m\u001b[1;32m    976\u001b[0m                 \u001b[0;32melse\u001b[0m\u001b[0;34m:\u001b[0m\u001b[0;34m\u001b[0m\u001b[0;34m\u001b[0m\u001b[0m\n\u001b[1;32m    977\u001b[0m                     \u001b[0mself\u001b[0m\u001b[0;34m.\u001b[0m\u001b[0m_output\u001b[0m\u001b[0;34m.\u001b[0m\u001b[0mextend\u001b[0m\u001b[0;34m(\u001b[0m\u001b[0mjob\u001b[0m\u001b[0;34m.\u001b[0m\u001b[0mget\u001b[0m\u001b[0;34m(\u001b[0m\u001b[0;34m)\u001b[0m\u001b[0;34m)\u001b[0m\u001b[0;34m\u001b[0m\u001b[0;34m\u001b[0m\u001b[0m\n",
            "\u001b[0;32m/usr/local/lib/python3.8/dist-packages/joblib/_parallel_backends.py\u001b[0m in \u001b[0;36mwrap_future_result\u001b[0;34m(future, timeout)\u001b[0m\n\u001b[1;32m    565\u001b[0m         AsyncResults.get from multiprocessing.\"\"\"\n\u001b[1;32m    566\u001b[0m         \u001b[0;32mtry\u001b[0m\u001b[0;34m:\u001b[0m\u001b[0;34m\u001b[0m\u001b[0;34m\u001b[0m\u001b[0m\n\u001b[0;32m--> 567\u001b[0;31m             \u001b[0;32mreturn\u001b[0m \u001b[0mfuture\u001b[0m\u001b[0;34m.\u001b[0m\u001b[0mresult\u001b[0m\u001b[0;34m(\u001b[0m\u001b[0mtimeout\u001b[0m\u001b[0;34m=\u001b[0m\u001b[0mtimeout\u001b[0m\u001b[0;34m)\u001b[0m\u001b[0;34m\u001b[0m\u001b[0;34m\u001b[0m\u001b[0m\n\u001b[0m\u001b[1;32m    568\u001b[0m         \u001b[0;32mexcept\u001b[0m \u001b[0mCfTimeoutError\u001b[0m \u001b[0;32mas\u001b[0m \u001b[0me\u001b[0m\u001b[0;34m:\u001b[0m\u001b[0;34m\u001b[0m\u001b[0;34m\u001b[0m\u001b[0m\n\u001b[1;32m    569\u001b[0m             \u001b[0;32mraise\u001b[0m \u001b[0mTimeoutError\u001b[0m \u001b[0;32mfrom\u001b[0m \u001b[0me\u001b[0m\u001b[0;34m\u001b[0m\u001b[0;34m\u001b[0m\u001b[0m\n",
            "\u001b[0;32m/usr/lib/python3.8/concurrent/futures/_base.py\u001b[0m in \u001b[0;36mresult\u001b[0;34m(self, timeout)\u001b[0m\n\u001b[1;32m    437\u001b[0m                     \u001b[0;32mreturn\u001b[0m \u001b[0mself\u001b[0m\u001b[0;34m.\u001b[0m\u001b[0m__get_result\u001b[0m\u001b[0;34m(\u001b[0m\u001b[0;34m)\u001b[0m\u001b[0;34m\u001b[0m\u001b[0;34m\u001b[0m\u001b[0m\n\u001b[1;32m    438\u001b[0m \u001b[0;34m\u001b[0m\u001b[0m\n\u001b[0;32m--> 439\u001b[0;31m                 \u001b[0mself\u001b[0m\u001b[0;34m.\u001b[0m\u001b[0m_condition\u001b[0m\u001b[0;34m.\u001b[0m\u001b[0mwait\u001b[0m\u001b[0;34m(\u001b[0m\u001b[0mtimeout\u001b[0m\u001b[0;34m)\u001b[0m\u001b[0;34m\u001b[0m\u001b[0;34m\u001b[0m\u001b[0m\n\u001b[0m\u001b[1;32m    440\u001b[0m \u001b[0;34m\u001b[0m\u001b[0m\n\u001b[1;32m    441\u001b[0m                 \u001b[0;32mif\u001b[0m \u001b[0mself\u001b[0m\u001b[0;34m.\u001b[0m\u001b[0m_state\u001b[0m \u001b[0;32min\u001b[0m \u001b[0;34m[\u001b[0m\u001b[0mCANCELLED\u001b[0m\u001b[0;34m,\u001b[0m \u001b[0mCANCELLED_AND_NOTIFIED\u001b[0m\u001b[0;34m]\u001b[0m\u001b[0;34m:\u001b[0m\u001b[0;34m\u001b[0m\u001b[0;34m\u001b[0m\u001b[0m\n",
            "\u001b[0;32m/usr/lib/python3.8/threading.py\u001b[0m in \u001b[0;36mwait\u001b[0;34m(self, timeout)\u001b[0m\n\u001b[1;32m    300\u001b[0m         \u001b[0;32mtry\u001b[0m\u001b[0;34m:\u001b[0m    \u001b[0;31m# restore state no matter what (e.g., KeyboardInterrupt)\u001b[0m\u001b[0;34m\u001b[0m\u001b[0;34m\u001b[0m\u001b[0m\n\u001b[1;32m    301\u001b[0m             \u001b[0;32mif\u001b[0m \u001b[0mtimeout\u001b[0m \u001b[0;32mis\u001b[0m \u001b[0;32mNone\u001b[0m\u001b[0;34m:\u001b[0m\u001b[0;34m\u001b[0m\u001b[0;34m\u001b[0m\u001b[0m\n\u001b[0;32m--> 302\u001b[0;31m                 \u001b[0mwaiter\u001b[0m\u001b[0;34m.\u001b[0m\u001b[0macquire\u001b[0m\u001b[0;34m(\u001b[0m\u001b[0;34m)\u001b[0m\u001b[0;34m\u001b[0m\u001b[0;34m\u001b[0m\u001b[0m\n\u001b[0m\u001b[1;32m    303\u001b[0m                 \u001b[0mgotit\u001b[0m \u001b[0;34m=\u001b[0m \u001b[0;32mTrue\u001b[0m\u001b[0;34m\u001b[0m\u001b[0;34m\u001b[0m\u001b[0m\n\u001b[1;32m    304\u001b[0m             \u001b[0;32melse\u001b[0m\u001b[0;34m:\u001b[0m\u001b[0;34m\u001b[0m\u001b[0;34m\u001b[0m\u001b[0m\n",
            "\u001b[0;31mKeyboardInterrupt\u001b[0m: "
          ]
        }
      ]
    },
    {
      "cell_type": "code",
      "execution_count": 19,
      "metadata": {
        "colab": {
          "base_uri": "https://localhost:8080/"
        },
        "id": "OeVYj3I1pq86",
        "outputId": "5947df38-ebbb-42a9-8c72-19963a60b92e"
      },
      "outputs": [
        {
          "output_type": "stream",
          "name": "stdout",
          "text": [
            "[99.98593134496342, 69.38775510204081, 83.29345303091827, 78.16091954022988, 99.94726294694652, 89.47368421052632, 95.8697730639808, 76.26710514277367]\n"
          ]
        }
      ],
      "source": [
        "a = RandomForestClassifier(random_state = RANDOM_SEED,\n",
        "                           n_estimators = 100,\n",
        "                           max_depth = 5,\n",
        "                           max_features = 'sqrt',\n",
        "                           bootstrap = True)\n",
        "a.fit(X_train, y_train)\n",
        "predictions = a.predict(X_test)\n",
        "t0, f1, f0, t1 = metrics.confusion_matrix(y_test, predictions).ravel()\n",
        "acc0 = t0/(t0 + f1)\n",
        "acc1 = t1/(t1 + f0)\n",
        "g_mean = sqrt(acc0*acc1)\n",
        "prec0 = t0/(t0 + f0)\n",
        "prec1 = t1/(t1 + f1)\n",
        "f_sc = 2*prec1*acc1/(prec1+acc1)\n",
        "auc = roc_auc_score(y_test, a.predict_proba(X_test)[:,1])\n",
        "auc_pr = average_precision_score(y_test, a.predict_proba(X_test)[:,1])\n",
        "print([100*acc0, 100*acc1, 100*g_mean, 100*f_sc, 100*prec0, 100*prec1, 100*auc, 100*auc_pr])"
      ]
    },
    {
      "cell_type": "code",
      "execution_count": null,
      "metadata": {
        "colab": {
          "base_uri": "https://localhost:8080/"
        },
        "id": "_3Qqc0b_jQpw",
        "outputId": "6de89a23-f247-41a9-e052-5aec8841220e"
      },
      "outputs": [
        {
          "data": {
            "text/plain": [
              "{'bootstrap': True,\n",
              " 'ccp_alpha': 0.0,\n",
              " 'class_weight': None,\n",
              " 'criterion': 'gini',\n",
              " 'max_depth': 5,\n",
              " 'max_features': 'auto',\n",
              " 'max_leaf_nodes': None,\n",
              " 'max_samples': None,\n",
              " 'min_impurity_decrease': 0.0,\n",
              " 'min_samples_leaf': 1,\n",
              " 'min_samples_split': 2,\n",
              " 'min_weight_fraction_leaf': 0.0,\n",
              " 'n_estimators': 30,\n",
              " 'n_jobs': None,\n",
              " 'oob_score': False,\n",
              " 'random_state': 2117,\n",
              " 'verbose': 0,\n",
              " 'warm_start': False}"
            ]
          },
          "execution_count": 16,
          "metadata": {},
          "output_type": "execute_result"
        }
      ],
      "source": [
        "a.get_params()"
      ]
    },
    {
      "cell_type": "code",
      "execution_count": null,
      "metadata": {
        "id": "LrTNSli_tmOS"
      },
      "outputs": [],
      "source": [
        "from sklearn import metrics \n",
        "from collections import Counter\n",
        "\n",
        "from imblearn.over_sampling import SMOTE\n",
        "from imblearn.under_sampling import RandomUnderSampler\n",
        "# from imblearn.pipeline import make_pipeline\n",
        "\n",
        "# model_rus = make_pipeline(\n",
        "#     RandomUnderSampler(random_state=RANDOM_SEED),\n",
        "#     HistGradientBoostingClassifier(random_state=RANDOM_SEED)\n",
        "# )\n",
        "\n",
        "def model_resample_pipeline(X_train, X_test, y_train, y_test, model) :\n",
        "  results = {'ordinary': {},\n",
        "             'class_weight': {},\n",
        "             'oversample': {},\n",
        "             'undersample': {}}\n",
        "  # ------ No balancing ------\n",
        "  model.fit(X_train, y_train)\n",
        "  predictions = model.predict(X_test)\n",
        "  accuracy = metrics.accuracy_score(y_test, predictions)\n",
        "  precision, recall, fscore, support = metrics.precision_recall_fscore_support(y_test, predictions)\n",
        "  tn, fp, fn, tp = metrics.confusion_matrix(y_test, predictions).ravel()\n",
        "  fpr, tpr, thresholds = metrics.roc_curve(y_test, predictions, pos_label=1)\n",
        "  auc = metrics.auc(fpr, tpr)\n",
        "  \n",
        "  results['ordinary'] = {'accuracy': accuracy, 'precision': precision, 'recall': recall, \n",
        "                        'fscore': fscore, 'n_occurences': support,\n",
        "                        'predictions_count': Counter(predictions),\n",
        "                        'tp': tp, 'tn': tn, 'fp': fp, 'fn': fn,\n",
        "                        'auc': auc}\n",
        "  \n",
        "  # ------ Class weight ------\n",
        "  if 'class_weight' in model.get_params().keys():\n",
        "      model.set_params(class_weight='balanced')\n",
        "      model.fit(X_train, y_train)\n",
        "      predictions = model.predict(X_test)\n",
        "      accuracy = metrics.accuracy_score(y_test, predictions)\n",
        "      precision, recall, fscore, support = metrics.precision_recall_fscore_support(y_test, predictions)\n",
        "      tn, fp, fn, tp = metrics.confusion_matrix(y_test, predictions).ravel()\n",
        "      fpr, tpr, thresholds = metrics.roc_curve(y_test, predictions, pos_label=1)\n",
        "      auc = metrics.auc(fpr, tpr)\n",
        "\n",
        "      results['class_weight'] = {'accuracy': accuracy, 'precision': precision, 'recall': recall, \n",
        "                                'fscore': fscore, 'n_occurences': support,\n",
        "                                'predictions_count': Counter(predictions),\n",
        "                                'tp': tp, 'tn': tn, 'fp': fp, 'fn': fn,\n",
        "                                'auc': auc}\n",
        "  \n",
        "  # ------------ OVERSAMPLING TECHNIQUES ------------\n",
        "  print('------ Oversampling methods ------')\n",
        "  techniques = [SMOTE()]\n",
        "  \n",
        "  for sampler in techniques:\n",
        "      technique = sampler.__class__.__name__\n",
        "      print(f'Technique: {technique}')\n",
        "      print(f'Before resampling: {sorted(Counter(y_train).items())}')\n",
        "      X_resampled, y_resampled = sampler.fit_resample(X_train, y_train)\n",
        "      print(f'After resampling: {sorted(Counter(y_resampled).items())}')\n",
        "\n",
        "      model.fit(X_resampled, y_resampled)\n",
        "      predictions = model.predict(X_test)\n",
        "      accuracy = metrics.accuracy_score(y_test, predictions)\n",
        "      precision, recall, fscore, support = metrics.precision_recall_fscore_support(y_test, predictions)\n",
        "      tn, fp, fn, tp = metrics.confusion_matrix(y_test, predictions).ravel()\n",
        "      fpr, tpr, thresholds = metrics.roc_curve(y_test, predictions, pos_label=1)\n",
        "      auc = metrics.auc(fpr, tpr)\n",
        "\n",
        "      results['oversample'][technique] = {'accuracy': accuracy, \n",
        "                                          'precision': precision, \n",
        "                                          'recall': recall,\n",
        "                                          'fscore': fscore, \n",
        "                                          'n_occurences': support,\n",
        "                                          'predictions_count': Counter(predictions),\n",
        "                                          'tp': tp, 'tn': tn, 'fp': fp, 'fn': fn,\n",
        "                                          'auc': auc}\n",
        "  # ------------ UNDERSAMPLING TECHNIQUES ------------\n",
        "  print('------ Undersampling methods ------')\n",
        "  techniques = [RandomUnderSampler()]\n",
        "\n",
        "  for sampler in techniques:\n",
        "      technique = sampler.__class__.__name__\n",
        "      # if technique == 'NearMiss': technique+=str(sampler.version)\n",
        "      print(f'Technique: {technique}')\n",
        "      print(f'Before resampling: {sorted(Counter(y_train).items())}')\n",
        "      X_resampled, y_resampled = sampler.fit_resample(X_train, y_train)\n",
        "      print(f'After resampling: {sorted(Counter(y_resampled).items())}')\n",
        "\n",
        "      model.fit(X_resampled, y_resampled)\n",
        "      predictions = model.predict(X_test)\n",
        "      accuracy = metrics.accuracy_score(y_test, predictions)\n",
        "      precision, recall, fscore, support = metrics.precision_recall_fscore_support(y_test, predictions)\n",
        "      tn, fp, fn, tp = metrics.confusion_matrix(y_test, predictions).ravel()\n",
        "      fpr, tpr, thresholds = metrics.roc_curve(y_test, predictions, pos_label=1)\n",
        "      auc = metrics.auc(fpr, tpr)\n",
        "\n",
        "      results['undersample'][technique] = {'accuracy': accuracy, \n",
        "                                          'precision': precision, \n",
        "                                          'recall': recall,\n",
        "                                          'fscore': fscore, \n",
        "                                          'n_occurences': support,\n",
        "                                          'predictions_count': Counter(predictions),\n",
        "                                          'tp': tp, 'tn': tn, 'fp': fp, 'fn': fn,\n",
        "                                          'auc': auc}\n",
        "      \n",
        "\n",
        "  return results"
      ]
    },
    {
      "cell_type": "code",
      "execution_count": null,
      "metadata": {
        "id": "0rx6J5UoFT8f"
      },
      "outputs": [],
      "source": [
        "def evaluate_method(results, method, metrics = ['precision', 'recall', 'fscore']):\n",
        "    fig, ax = plt.subplots(1, 7, sharey=True, figsize=(16, 6))\n",
        "    \n",
        "    for i, metric in enumerate(metrics):\n",
        "        ax[i*2].axhline(results['ordinary'][metric][0], label='No Resampling')\n",
        "        ax[i*2+1].axhline(results['ordinary'][metric][1], label='No Resampling')\n",
        "        \n",
        "        if results['class_weight']:\n",
        "            ax[i*2].bar(0, results['class_weight'][metric][0], label='Adjust Class Weight')\n",
        "            ax[i*2+1].bar(0, results['class_weight'][metric][1], label='Adjust Class Weight')\n",
        "            \n",
        "        ax[0].legend(loc='upper center', bbox_to_anchor=(9, 1.01),\n",
        "                     ncol=1, fancybox=True, shadow=True)\n",
        "        \n",
        "        for j, (technique, result) in enumerate(results[method].items()):\n",
        "            ax[i*2].bar(j+1, result[metric][0], label=technique)\n",
        "            \n",
        "            ax[i*2+1].bar(j+1, result[metric][1], label=technique)\n",
        "        \n",
        "        \n",
        "        ax[i*2].set_title(f'0: \\n{metric}')\n",
        "        ax[i*2+1].set_title(f'1: \\n{metric}')\n",
        "    \n",
        "    # AUC vis\n",
        "    ax[6].set_title(f'Area under curve')\n",
        "    ax[6].axhline(results['ordinary']['auc'], label='No Resampling')\n",
        "    if results['class_weight']:\n",
        "        ax[6].bar(0, results['class_weight']['auc'], label='Adjust Class Weight')\n",
        "    for j, (technique, result) in enumerate(results[method].items()):\n",
        "        ax[6].bar(j+1, result['auc'], label=technique)"
      ]
    },
    {
      "cell_type": "code",
      "execution_count": null,
      "metadata": {
        "colab": {
          "base_uri": "https://localhost:8080/"
        },
        "id": "vMDUPLSj5dvd",
        "outputId": "439d2993-7568-489c-9c5a-2aff05a76307"
      },
      "outputs": [
        {
          "name": "stdout",
          "output_type": "stream",
          "text": [
            "------ Oversampling methods ------\n",
            "Technique: SMOTE\n",
            "Before resampling: [(0, 227451), (1, 394)]\n",
            "After resampling: [(0, 227451), (1, 227451)]\n",
            "------ Undersampling methods ------\n",
            "Technique: RandomUnderSampler\n",
            "Before resampling: [(0, 227451), (1, 394)]\n",
            "After resampling: [(0, 394), (1, 394)]\n"
          ]
        }
      ],
      "source": [
        "from sklearn.tree import DecisionTreeClassifier\n",
        "\n",
        "model = DecisionTreeClassifier()\n",
        "results = model_resample_pipeline(X_train, X_test, y_train, y_test, model)"
      ]
    },
    {
      "cell_type": "code",
      "execution_count": null,
      "metadata": {
        "colab": {
          "base_uri": "https://localhost:8080/"
        },
        "id": "0JMPJPdcG3n7",
        "outputId": "ac7f7191-ebf4-4eb1-cec9-ead15383f079"
      },
      "outputs": [
        {
          "data": {
            "image/png": "[encoded data removed]",
            "text/plain": [
              "<Figure size 1152x432 with 7 Axes>"
            ]
          },
          "metadata": {},
          "output_type": "display_data"
        }
      ],
      "source": [
        "evaluate_method(results, 'undersample')"
      ]
    },
    {
      "cell_type": "code",
      "execution_count": null,
      "metadata": {
        "colab": {
          "base_uri": "https://localhost:8080/"
        },
        "id": "MuheosKCGz8K",
        "outputId": "5f4f9113-4afa-44be-c14a-19145e5454db"
      },
      "outputs": [
        {
          "data": {
            "image/png": "[encoded data removed]",
            "text/plain": [
              "<Figure size 1152x432 with 7 Axes>"
            ]
          },
          "metadata": {},
          "output_type": "display_data"
        }
      ],
      "source": [
        "  evaluate_method(results, 'oversample')"
      ]
    }
  ],
  "metadata": {
    "colab": {
      "provenance": []
    },
    "kernelspec": {
      "display_name": "Python 3",
      "name": "python3"
    },
    "language_info": {
      "name": "python"
    }
  },
  "nbformat": 4,
  "nbformat_minor": 0
}